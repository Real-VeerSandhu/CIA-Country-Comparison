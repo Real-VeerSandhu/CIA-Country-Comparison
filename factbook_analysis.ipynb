{
  "nbformat": 4,
  "nbformat_minor": 0,
  "metadata": {
    "colab": {
      "name": "factbook-analysis.ipynb",
      "provenance": []
    },
    "kernelspec": {
      "name": "python3",
      "display_name": "Python 3"
    },
    "language_info": {
      "name": "python"
    }
  },
  "cells": [
    {
      "cell_type": "code",
      "metadata": {
        "id": "1euc0CgdKm1X"
      },
      "source": [
        "import pandas as pd\n",
        "import plotly.express as px\n",
        "import numpy as np"
      ],
      "execution_count": 1,
      "outputs": []
    },
    {
      "cell_type": "code",
      "metadata": {
        "id": "sF8PieEnK8Bn"
      },
      "source": [
        "df = pd.read_csv('/content/cia_factbook.csv')"
      ],
      "execution_count": 2,
      "outputs": []
    },
    {
      "cell_type": "code",
      "metadata": {
        "colab": {
          "base_uri": "https://localhost:8080/",
          "height": 243
        },
        "id": "ilaxkQBtLAvs",
        "outputId": "1c5a67f4-4cb7-47ad-a03d-6639211f441f"
      },
      "source": [
        "df.head()"
      ],
      "execution_count": 3,
      "outputs": [
        {
          "output_type": "execute_result",
          "data": {
            "text/html": [
              "<div>\n",
              "<style scoped>\n",
              "    .dataframe tbody tr th:only-of-type {\n",
              "        vertical-align: middle;\n",
              "    }\n",
              "\n",
              "    .dataframe tbody tr th {\n",
              "        vertical-align: top;\n",
              "    }\n",
              "\n",
              "    .dataframe thead th {\n",
              "        text-align: right;\n",
              "    }\n",
              "</style>\n",
              "<table border=\"1\" class=\"dataframe\">\n",
              "  <thead>\n",
              "    <tr style=\"text-align: right;\">\n",
              "      <th></th>\n",
              "      <th>country</th>\n",
              "      <th>area</th>\n",
              "      <th>birth_rate</th>\n",
              "      <th>death_rate</th>\n",
              "      <th>infant_mortality_rate</th>\n",
              "      <th>internet_users</th>\n",
              "      <th>life_exp_at_birth</th>\n",
              "      <th>maternal_mortality_rate</th>\n",
              "      <th>net_migration_rate</th>\n",
              "      <th>population</th>\n",
              "      <th>population_growth_rate</th>\n",
              "    </tr>\n",
              "  </thead>\n",
              "  <tbody>\n",
              "    <tr>\n",
              "      <th>0</th>\n",
              "      <td>Russia</td>\n",
              "      <td>17098242.0</td>\n",
              "      <td>11.87</td>\n",
              "      <td>13.83</td>\n",
              "      <td>7.08</td>\n",
              "      <td>40853000.0</td>\n",
              "      <td>70.16</td>\n",
              "      <td>34.0</td>\n",
              "      <td>1.69</td>\n",
              "      <td>1.424703e+08</td>\n",
              "      <td>-0.03</td>\n",
              "    </tr>\n",
              "    <tr>\n",
              "      <th>1</th>\n",
              "      <td>Canada</td>\n",
              "      <td>9984670.0</td>\n",
              "      <td>10.29</td>\n",
              "      <td>8.31</td>\n",
              "      <td>4.71</td>\n",
              "      <td>26960000.0</td>\n",
              "      <td>81.67</td>\n",
              "      <td>12.0</td>\n",
              "      <td>5.66</td>\n",
              "      <td>3.483484e+07</td>\n",
              "      <td>0.76</td>\n",
              "    </tr>\n",
              "    <tr>\n",
              "      <th>2</th>\n",
              "      <td>United States</td>\n",
              "      <td>9826675.0</td>\n",
              "      <td>13.42</td>\n",
              "      <td>8.15</td>\n",
              "      <td>6.17</td>\n",
              "      <td>245000000.0</td>\n",
              "      <td>79.56</td>\n",
              "      <td>21.0</td>\n",
              "      <td>2.45</td>\n",
              "      <td>3.188921e+08</td>\n",
              "      <td>0.77</td>\n",
              "    </tr>\n",
              "    <tr>\n",
              "      <th>3</th>\n",
              "      <td>China</td>\n",
              "      <td>9596960.0</td>\n",
              "      <td>12.17</td>\n",
              "      <td>7.44</td>\n",
              "      <td>14.79</td>\n",
              "      <td>389000000.0</td>\n",
              "      <td>75.15</td>\n",
              "      <td>37.0</td>\n",
              "      <td>-0.32</td>\n",
              "      <td>1.355693e+09</td>\n",
              "      <td>0.44</td>\n",
              "    </tr>\n",
              "    <tr>\n",
              "      <th>4</th>\n",
              "      <td>Brazil</td>\n",
              "      <td>8514877.0</td>\n",
              "      <td>14.72</td>\n",
              "      <td>6.54</td>\n",
              "      <td>19.21</td>\n",
              "      <td>75982000.0</td>\n",
              "      <td>73.28</td>\n",
              "      <td>56.0</td>\n",
              "      <td>-0.15</td>\n",
              "      <td>2.026568e+08</td>\n",
              "      <td>0.80</td>\n",
              "    </tr>\n",
              "  </tbody>\n",
              "</table>\n",
              "</div>"
            ],
            "text/plain": [
              "         country        area  ...    population  population_growth_rate\n",
              "0         Russia  17098242.0  ...  1.424703e+08                   -0.03\n",
              "1         Canada   9984670.0  ...  3.483484e+07                    0.76\n",
              "2  United States   9826675.0  ...  3.188921e+08                    0.77\n",
              "3          China   9596960.0  ...  1.355693e+09                    0.44\n",
              "4         Brazil   8514877.0  ...  2.026568e+08                    0.80\n",
              "\n",
              "[5 rows x 11 columns]"
            ]
          },
          "metadata": {},
          "execution_count": 3
        }
      ]
    },
    {
      "cell_type": "code",
      "metadata": {
        "colab": {
          "base_uri": "https://localhost:8080/"
        },
        "id": "YxwjONX6LBot",
        "outputId": "d431d0f3-c11a-49f0-b02a-04af0bb17810"
      },
      "source": [
        "df.columns"
      ],
      "execution_count": 6,
      "outputs": [
        {
          "output_type": "execute_result",
          "data": {
            "text/plain": [
              "Index(['country', 'area', 'birth_rate', 'death_rate', 'infant_mortality_rate',\n",
              "       'internet_users', 'life_exp_at_birth', 'maternal_mortality_rate',\n",
              "       'net_migration_rate', 'population', 'population_growth_rate'],\n",
              "      dtype='object')"
            ]
          },
          "metadata": {},
          "execution_count": 6
        }
      ]
    },
    {
      "cell_type": "code",
      "metadata": {
        "colab": {
          "base_uri": "https://localhost:8080/"
        },
        "id": "l6RUqUXTLCof",
        "outputId": "6ef98a39-5bc6-43a1-d7dd-f31112ac6a93"
      },
      "source": [
        "for category in df.columns[1:]:\n",
        "  print([category])"
      ],
      "execution_count": 11,
      "outputs": [
        {
          "output_type": "stream",
          "name": "stdout",
          "text": [
            "['area']\n",
            "['birth_rate']\n",
            "['death_rate']\n",
            "['infant_mortality_rate']\n",
            "['internet_users']\n",
            "['life_exp_at_birth']\n",
            "['maternal_mortality_rate']\n",
            "['net_migration_rate']\n",
            "['population']\n",
            "['population_growth_rate']\n"
          ]
        }
      ]
    },
    {
      "cell_type": "code",
      "metadata": {
        "id": "6UeKnewWLPDv"
      },
      "source": [
        ""
      ],
      "execution_count": null,
      "outputs": []
    }
  ]
}