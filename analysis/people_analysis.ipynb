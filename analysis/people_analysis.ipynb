{
  "nbformat": 4,
  "nbformat_minor": 2,
  "metadata": {
    "colab": {
      "name": "factbook-analysis.ipynb",
      "provenance": []
    },
    "kernelspec": {
      "name": "python3",
      "display_name": "Python 3.6.12 64-bit ('env0': conda)"
    },
    "language_info": {
      "name": "python",
      "version": "3.6.12",
      "mimetype": "text/x-python",
      "codemirror_mode": {
        "name": "ipython",
        "version": 3
      },
      "pygments_lexer": "ipython3",
      "nbconvert_exporter": "python",
      "file_extension": ".py"
    },
    "interpreter": {
      "hash": "fefd83eafc0c2f3c8796de3f6632c2698dc12eafcdd46e5a8c965eb3d21b0b49"
    }
  },
  "cells": [
    {
      "cell_type": "code",
      "execution_count": 1,
      "source": [
        "import pandas as pd\r\n",
        "import plotly.express as px\r\n",
        "import numpy as np"
      ],
      "outputs": [],
      "metadata": {
        "id": "1euc0CgdKm1X"
      }
    },
    {
      "cell_type": "code",
      "execution_count": 2,
      "source": [
        "df = pd.read_csv('../data/cia_factbook.csv')"
      ],
      "outputs": [],
      "metadata": {
        "id": "sF8PieEnK8Bn"
      }
    },
    {
      "cell_type": "code",
      "execution_count": 3,
      "source": [
        "df.head()"
      ],
      "outputs": [
        {
          "output_type": "execute_result",
          "data": {
            "text/html": [
              "<div>\n",
              "<style scoped>\n",
              "    .dataframe tbody tr th:only-of-type {\n",
              "        vertical-align: middle;\n",
              "    }\n",
              "\n",
              "    .dataframe tbody tr th {\n",
              "        vertical-align: top;\n",
              "    }\n",
              "\n",
              "    .dataframe thead th {\n",
              "        text-align: right;\n",
              "    }\n",
              "</style>\n",
              "<table border=\"1\" class=\"dataframe\">\n",
              "  <thead>\n",
              "    <tr style=\"text-align: right;\">\n",
              "      <th></th>\n",
              "      <th>country</th>\n",
              "      <th>area</th>\n",
              "      <th>birth_rate</th>\n",
              "      <th>death_rate</th>\n",
              "      <th>infant_mortality_rate</th>\n",
              "      <th>internet_users</th>\n",
              "      <th>life_exp_at_birth</th>\n",
              "      <th>maternal_mortality_rate</th>\n",
              "      <th>net_migration_rate</th>\n",
              "      <th>population</th>\n",
              "      <th>population_growth_rate</th>\n",
              "    </tr>\n",
              "  </thead>\n",
              "  <tbody>\n",
              "    <tr>\n",
              "      <th>0</th>\n",
              "      <td>Russia</td>\n",
              "      <td>17098242.0</td>\n",
              "      <td>11.87</td>\n",
              "      <td>13.83</td>\n",
              "      <td>7.08</td>\n",
              "      <td>40853000.0</td>\n",
              "      <td>70.16</td>\n",
              "      <td>34.0</td>\n",
              "      <td>1.69</td>\n",
              "      <td>1.424703e+08</td>\n",
              "      <td>-0.03</td>\n",
              "    </tr>\n",
              "    <tr>\n",
              "      <th>1</th>\n",
              "      <td>Canada</td>\n",
              "      <td>9984670.0</td>\n",
              "      <td>10.29</td>\n",
              "      <td>8.31</td>\n",
              "      <td>4.71</td>\n",
              "      <td>26960000.0</td>\n",
              "      <td>81.67</td>\n",
              "      <td>12.0</td>\n",
              "      <td>5.66</td>\n",
              "      <td>3.483484e+07</td>\n",
              "      <td>0.76</td>\n",
              "    </tr>\n",
              "    <tr>\n",
              "      <th>2</th>\n",
              "      <td>United States</td>\n",
              "      <td>9826675.0</td>\n",
              "      <td>13.42</td>\n",
              "      <td>8.15</td>\n",
              "      <td>6.17</td>\n",
              "      <td>245000000.0</td>\n",
              "      <td>79.56</td>\n",
              "      <td>21.0</td>\n",
              "      <td>2.45</td>\n",
              "      <td>3.188921e+08</td>\n",
              "      <td>0.77</td>\n",
              "    </tr>\n",
              "    <tr>\n",
              "      <th>3</th>\n",
              "      <td>China</td>\n",
              "      <td>9596960.0</td>\n",
              "      <td>12.17</td>\n",
              "      <td>7.44</td>\n",
              "      <td>14.79</td>\n",
              "      <td>389000000.0</td>\n",
              "      <td>75.15</td>\n",
              "      <td>37.0</td>\n",
              "      <td>-0.32</td>\n",
              "      <td>1.355693e+09</td>\n",
              "      <td>0.44</td>\n",
              "    </tr>\n",
              "    <tr>\n",
              "      <th>4</th>\n",
              "      <td>Brazil</td>\n",
              "      <td>8514877.0</td>\n",
              "      <td>14.72</td>\n",
              "      <td>6.54</td>\n",
              "      <td>19.21</td>\n",
              "      <td>75982000.0</td>\n",
              "      <td>73.28</td>\n",
              "      <td>56.0</td>\n",
              "      <td>-0.15</td>\n",
              "      <td>2.026568e+08</td>\n",
              "      <td>0.80</td>\n",
              "    </tr>\n",
              "  </tbody>\n",
              "</table>\n",
              "</div>"
            ],
            "text/plain": [
              "         country        area  birth_rate  death_rate  infant_mortality_rate  \\\n",
              "0         Russia  17098242.0       11.87       13.83                   7.08   \n",
              "1         Canada   9984670.0       10.29        8.31                   4.71   \n",
              "2  United States   9826675.0       13.42        8.15                   6.17   \n",
              "3          China   9596960.0       12.17        7.44                  14.79   \n",
              "4         Brazil   8514877.0       14.72        6.54                  19.21   \n",
              "\n",
              "   internet_users  life_exp_at_birth  maternal_mortality_rate  \\\n",
              "0      40853000.0              70.16                     34.0   \n",
              "1      26960000.0              81.67                     12.0   \n",
              "2     245000000.0              79.56                     21.0   \n",
              "3     389000000.0              75.15                     37.0   \n",
              "4      75982000.0              73.28                     56.0   \n",
              "\n",
              "   net_migration_rate    population  population_growth_rate  \n",
              "0                1.69  1.424703e+08                   -0.03  \n",
              "1                5.66  3.483484e+07                    0.76  \n",
              "2                2.45  3.188921e+08                    0.77  \n",
              "3               -0.32  1.355693e+09                    0.44  \n",
              "4               -0.15  2.026568e+08                    0.80  "
            ]
          },
          "metadata": {},
          "execution_count": 3
        }
      ],
      "metadata": {
        "colab": {
          "base_uri": "https://localhost:8080/",
          "height": 243
        },
        "id": "ilaxkQBtLAvs",
        "outputId": "1c5a67f4-4cb7-47ad-a03d-6639211f441f"
      }
    },
    {
      "cell_type": "code",
      "execution_count": 4,
      "source": [
        "df.columns"
      ],
      "outputs": [
        {
          "output_type": "execute_result",
          "data": {
            "text/plain": [
              "Index(['country', 'area', 'birth_rate', 'death_rate', 'infant_mortality_rate',\n",
              "       'internet_users', 'life_exp_at_birth', 'maternal_mortality_rate',\n",
              "       'net_migration_rate', 'population', 'population_growth_rate'],\n",
              "      dtype='object')"
            ]
          },
          "metadata": {},
          "execution_count": 4
        }
      ],
      "metadata": {
        "colab": {
          "base_uri": "https://localhost:8080/"
        },
        "id": "YxwjONX6LBot",
        "outputId": "d431d0f3-c11a-49f0-b02a-04af0bb17810"
      }
    },
    {
      "cell_type": "code",
      "execution_count": 5,
      "source": [
        "for category in df.columns[1:]:\r\n",
        "  print([category])"
      ],
      "outputs": [
        {
          "output_type": "stream",
          "name": "stdout",
          "text": [
            "['area']\n",
            "['birth_rate']\n",
            "['death_rate']\n",
            "['infant_mortality_rate']\n",
            "['internet_users']\n",
            "['life_exp_at_birth']\n",
            "['maternal_mortality_rate']\n",
            "['net_migration_rate']\n",
            "['population']\n",
            "['population_growth_rate']\n"
          ]
        }
      ],
      "metadata": {
        "colab": {
          "base_uri": "https://localhost:8080/"
        },
        "id": "l6RUqUXTLCof",
        "outputId": "6ef98a39-5bc6-43a1-d7dd-f31112ac6a93"
      }
    },
    {
      "cell_type": "code",
      "execution_count": null,
      "source": [],
      "outputs": [],
      "metadata": {
        "id": "6UeKnewWLPDv"
      }
    }
  ]
}