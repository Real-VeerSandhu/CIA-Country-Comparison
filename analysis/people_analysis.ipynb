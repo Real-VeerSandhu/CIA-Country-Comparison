{
  "cells": [
    {
      "cell_type": "code",
      "execution_count": 1,
      "metadata": {
        "id": "1euc0CgdKm1X"
      },
      "outputs": [],
      "source": [
        "import pandas as pd\n",
        "import plotly.express as px\n",
        "import numpy as np"
      ]
    },
    {
      "cell_type": "code",
      "execution_count": 2,
      "metadata": {
        "id": "sF8PieEnK8Bn"
      },
      "outputs": [],
      "source": [
        "df = pd.read_csv('../data/cia_factbook.csv')"
      ]
    },
    {
      "cell_type": "code",
      "execution_count": 3,
      "metadata": {
        "colab": {
          "base_uri": "https://localhost:8080/",
          "height": 243
        },
        "id": "ilaxkQBtLAvs",
        "outputId": "1c5a67f4-4cb7-47ad-a03d-6639211f441f"
      },
      "outputs": [
        {
          "data": {
            "text/html": [
              "<div>\n",
              "<style scoped>\n",
              "    .dataframe tbody tr th:only-of-type {\n",
              "        vertical-align: middle;\n",
              "    }\n",
              "\n",
              "    .dataframe tbody tr th {\n",
              "        vertical-align: top;\n",
              "    }\n",
              "\n",
              "    .dataframe thead th {\n",
              "        text-align: right;\n",
              "    }\n",
              "</style>\n",
              "<table border=\"1\" class=\"dataframe\">\n",
              "  <thead>\n",
              "    <tr style=\"text-align: right;\">\n",
              "      <th></th>\n",
              "      <th>country</th>\n",
              "      <th>area</th>\n",
              "      <th>birth_rate</th>\n",
              "      <th>death_rate</th>\n",
              "      <th>infant_mortality_rate</th>\n",
              "      <th>internet_users</th>\n",
              "      <th>life_exp_at_birth</th>\n",
              "      <th>maternal_mortality_rate</th>\n",
              "      <th>net_migration_rate</th>\n",
              "      <th>population</th>\n",
              "      <th>population_growth_rate</th>\n",
              "    </tr>\n",
              "  </thead>\n",
              "  <tbody>\n",
              "    <tr>\n",
              "      <th>0</th>\n",
              "      <td>Russia</td>\n",
              "      <td>17098242.0</td>\n",
              "      <td>11.87</td>\n",
              "      <td>13.83</td>\n",
              "      <td>7.08</td>\n",
              "      <td>40853000.0</td>\n",
              "      <td>70.16</td>\n",
              "      <td>34.0</td>\n",
              "      <td>1.69</td>\n",
              "      <td>1.424703e+08</td>\n",
              "      <td>-0.03</td>\n",
              "    </tr>\n",
              "    <tr>\n",
              "      <th>1</th>\n",
              "      <td>Canada</td>\n",
              "      <td>9984670.0</td>\n",
              "      <td>10.29</td>\n",
              "      <td>8.31</td>\n",
              "      <td>4.71</td>\n",
              "      <td>26960000.0</td>\n",
              "      <td>81.67</td>\n",
              "      <td>12.0</td>\n",
              "      <td>5.66</td>\n",
              "      <td>3.483484e+07</td>\n",
              "      <td>0.76</td>\n",
              "    </tr>\n",
              "    <tr>\n",
              "      <th>2</th>\n",
              "      <td>United States</td>\n",
              "      <td>9826675.0</td>\n",
              "      <td>13.42</td>\n",
              "      <td>8.15</td>\n",
              "      <td>6.17</td>\n",
              "      <td>245000000.0</td>\n",
              "      <td>79.56</td>\n",
              "      <td>21.0</td>\n",
              "      <td>2.45</td>\n",
              "      <td>3.188921e+08</td>\n",
              "      <td>0.77</td>\n",
              "    </tr>\n",
              "    <tr>\n",
              "      <th>3</th>\n",
              "      <td>China</td>\n",
              "      <td>9596960.0</td>\n",
              "      <td>12.17</td>\n",
              "      <td>7.44</td>\n",
              "      <td>14.79</td>\n",
              "      <td>389000000.0</td>\n",
              "      <td>75.15</td>\n",
              "      <td>37.0</td>\n",
              "      <td>-0.32</td>\n",
              "      <td>1.355693e+09</td>\n",
              "      <td>0.44</td>\n",
              "    </tr>\n",
              "    <tr>\n",
              "      <th>4</th>\n",
              "      <td>Brazil</td>\n",
              "      <td>8514877.0</td>\n",
              "      <td>14.72</td>\n",
              "      <td>6.54</td>\n",
              "      <td>19.21</td>\n",
              "      <td>75982000.0</td>\n",
              "      <td>73.28</td>\n",
              "      <td>56.0</td>\n",
              "      <td>-0.15</td>\n",
              "      <td>2.026568e+08</td>\n",
              "      <td>0.80</td>\n",
              "    </tr>\n",
              "  </tbody>\n",
              "</table>\n",
              "</div>"
            ],
            "text/plain": [
              "         country        area  birth_rate  death_rate  infant_mortality_rate  \\\n",
              "0         Russia  17098242.0       11.87       13.83                   7.08   \n",
              "1         Canada   9984670.0       10.29        8.31                   4.71   \n",
              "2  United States   9826675.0       13.42        8.15                   6.17   \n",
              "3          China   9596960.0       12.17        7.44                  14.79   \n",
              "4         Brazil   8514877.0       14.72        6.54                  19.21   \n",
              "\n",
              "   internet_users  life_exp_at_birth  maternal_mortality_rate  \\\n",
              "0      40853000.0              70.16                     34.0   \n",
              "1      26960000.0              81.67                     12.0   \n",
              "2     245000000.0              79.56                     21.0   \n",
              "3     389000000.0              75.15                     37.0   \n",
              "4      75982000.0              73.28                     56.0   \n",
              "\n",
              "   net_migration_rate    population  population_growth_rate  \n",
              "0                1.69  1.424703e+08                   -0.03  \n",
              "1                5.66  3.483484e+07                    0.76  \n",
              "2                2.45  3.188921e+08                    0.77  \n",
              "3               -0.32  1.355693e+09                    0.44  \n",
              "4               -0.15  2.026568e+08                    0.80  "
            ]
          },
          "execution_count": 3,
          "metadata": {},
          "output_type": "execute_result"
        }
      ],
      "source": [
        "df.head()"
      ]
    },
    {
      "cell_type": "code",
      "execution_count": 4,
      "metadata": {},
      "outputs": [
        {
          "data": {
            "application/vnd.plotly.v1+json": {
              "config": {
                "plotlyServerURL": "https://plot.ly"
              },
              "data": [
                {
                  "hovertemplate": "maternal_mortality_rate=%{x}<br>life_exp_at_birth=%{y}<extra></extra>",
                  "legendgroup": "",
                  "marker": {
                    "color": "#636efa",
                    "symbol": "circle"
                  },
                  "mode": "markers",
                  "name": "",
                  "orientation": "v",
                  "showlegend": false,
                  "type": "scatter",
                  "x": [
                    34,
                    12,
                    21,
                    37,
                    56,
                    7,
                    200,
                    77,
                    51,
                    97,
                    540,
                    null,
                    24,
                    50,
                    220,
                    730,
                    58,
                    21,
                    63,
                    67,
                    1100,
                    590,
                    450,
                    540,
                    300,
                    92,
                    350,
                    190,
                    510,
                    66,
                    460,
                    630,
                    92,
                    200,
                    490,
                    260,
                    20,
                    25,
                    440,
                    200,
                    460,
                    2054,
                    8,
                    1000,
                    890,
                    32,
                    240,
                    160,
                    360,
                    200,
                    48,
                    6,
                    67,
                    690,
                    230,
                    4,
                    28,
                    100,
                    63,
                    99,
                    570,
                    5,
                    7,
                    560,
                    5,
                    59,
                    29,
                    7,
                    400,
                    5,
                    32,
                    4,
                    99,
                    110,
                    300,
                    15,
                    230,
                    null,
                    610,
                    12,
                    310,
                    350,
                    27,
                    470,
                    280,
                    4,
                    71,
                    370,
                    70,
                    250,
                    29,
                    130,
                    56,
                    170,
                    240,
                    65,
                    3,
                    95,
                    81,
                    460,
                    240,
                    350,
                    100,
                    770,
                    11,
                    73,
                    120,
                    5,
                    16,
                    21,
                    8,
                    63,
                    43,
                    4,
                    12,
                    5,
                    12,
                    92,
                    890,
                    6,
                    67,
                    35,
                    8,
                    34,
                    null,
                    300,
                    17,
                    8,
                    40,
                    6,
                    150,
                    2,
                    12,
                    6,
                    8,
                    180,
                    790,
                    null,
                    41,
                    8,
                    620,
                    30,
                    93,
                    27,
                    240,
                    800,
                    350,
                    340,
                    10,
                    200,
                    53,
                    81,
                    7,
                    12,
                    null,
                    26,
                    14,
                    320,
                    300,
                    47,
                    8,
                    20,
                    110,
                    null,
                    7,
                    360,
                    110,
                    null,
                    25,
                    10,
                    64,
                    24,
                    46,
                    null,
                    79,
                    100,
                    20,
                    280,
                    60,
                    null,
                    null,
                    null,
                    70,
                    null,
                    9,
                    20,
                    null,
                    110,
                    100,
                    3,
                    35,
                    null,
                    null,
                    null,
                    null,
                    null,
                    null,
                    null,
                    null,
                    51,
                    48,
                    64,
                    24,
                    8,
                    null,
                    60,
                    null,
                    null,
                    null,
                    null,
                    null,
                    null,
                    null,
                    null,
                    null,
                    null,
                    null,
                    null,
                    null,
                    null,
                    null,
                    null,
                    null,
                    null,
                    null,
                    null,
                    null,
                    null,
                    null,
                    null,
                    null,
                    null,
                    null,
                    null,
                    null,
                    null,
                    null,
                    null,
                    null,
                    null,
                    null,
                    null,
                    null,
                    null,
                    null,
                    null,
                    null,
                    null,
                    null,
                    null,
                    null,
                    null,
                    null,
                    null,
                    null,
                    null,
                    null,
                    null,
                    null
                  ],
                  "xaxis": "x",
                  "y": [
                    70.16,
                    81.67,
                    79.56,
                    75.15,
                    73.28,
                    82.07,
                    67.8,
                    77.51,
                    70.24,
                    76.39,
                    56.54,
                    71.82,
                    74.82,
                    75.43,
                    72.17,
                    63.32,
                    76.04,
                    70.89,
                    68.98,
                    73.23,
                    49.44,
                    54.74,
                    55.29,
                    54.95,
                    49.56,
                    75.25,
                    60.75,
                    68.55,
                    62.28,
                    73.45,
                    61.24,
                    52.62,
                    74.39,
                    51.85,
                    52.6,
                    67.05,
                    73.29,
                    78.44,
                    51.83,
                    65.94,
                    50.49,
                    null,
                    81.66,
                    51.58,
                    51.35,
                    69.14,
                    65.2,
                    54.06,
                    63.52,
                    64.83,
                    74.18,
                    81.47,
                    69.47,
                    57.35,
                    66.85,
                    81.89,
                    73.29,
                    76.51,
                    71.42,
                    76.8,
                    55.68,
                    84.46,
                    80.44,
                    58.52,
                    79.69,
                    72.91,
                    74.52,
                    81.6,
                    58.01,
                    76.65,
                    74.97,
                    82.03,
                    72.48,
                    76.36,
                    54.78,
                    80.93,
                    52.06,
                    62.27,
                    59.6,
                    80.42,
                    54.46,
                    65.75,
                    74.69,
                    63.51,
                    67.81,
                    72.15,
                    70.06,
                    60.95,
                    68.41,
                    63.78,
                    76.81,
                    71.69,
                    75.68,
                    67.19,
                    70.65,
                    67.06,
                    80.3,
                    72.72,
                    69.81,
                    59.99,
                    63.51,
                    61.07,
                    70.91,
                    58.21,
                    74.33,
                    78.22,
                    71.74,
                    81.22,
                    79.8,
                    75.46,
                    79.01,
                    74.1,
                    71.91,
                    80.17,
                    77.09,
                    78.31,
                    75.02,
                    78.3,
                    57.39,
                    80.56,
                    75.72,
                    76.35,
                    75.98,
                    73.44,
                    null,
                    64.06,
                    76.41,
                    76.33,
                    78.23,
                    76.69,
                    77.8,
                    74.07,
                    79.09,
                    81.12,
                    82.39,
                    68.98,
                    49.87,
                    79.84,
                    70.12,
                    79.92,
                    52.65,
                    74.12,
                    74.89,
                    77.96,
                    63.49,
                    59.55,
                    63.18,
                    59.26,
                    75.8,
                    62.4,
                    68.49,
                    74.18,
                    81.28,
                    77.83,
                    77.31,
                    72.15,
                    77.64,
                    50.54,
                    67.39,
                    71.93,
                    null,
                    79.09,
                    72.72,
                    null,
                    78.38,
                    64.36,
                    73.48,
                    null,
                    77.22,
                    78.34,
                    75.69,
                    76.77,
                    72.29,
                    76.79,
                    71.57,
                    73.21,
                    80.01,
                    63.48,
                    75.17,
                    79.75,
                    80.11,
                    82.78,
                    64.22,
                    79.55,
                    65.47,
                    78.58,
                    76.59,
                    75.82,
                    72.35,
                    84.38,
                    77.41,
                    80.98,
                    78.82,
                    82.65,
                    77.64,
                    72.6,
                    74.25,
                    77.98,
                    76.12,
                    74.99,
                    74.86,
                    74.64,
                    73.8,
                    80.11,
                    79.21,
                    75.15,
                    81.02,
                    75.29,
                    null,
                    80.26,
                    75.38,
                    74.91,
                    72.58,
                    76.35,
                    81.68,
                    78.29,
                    79.42,
                    null,
                    81.66,
                    73.9,
                    81.2,
                    82.39,
                    83.18,
                    null,
                    81.04,
                    null,
                    null,
                    77.61,
                    84.48,
                    65.81,
                    66.4,
                    null,
                    null,
                    79.13,
                    89.57,
                    null,
                    null,
                    null,
                    null,
                    null,
                    null,
                    null,
                    null,
                    null,
                    null,
                    null,
                    null,
                    null,
                    null,
                    null,
                    null,
                    null,
                    null,
                    null,
                    null,
                    null,
                    null,
                    80.02,
                    null
                  ],
                  "yaxis": "y"
                }
              ],
              "layout": {
                "legend": {
                  "tracegroupgap": 0
                },
                "margin": {
                  "t": 60
                },
                "template": {
                  "data": {
                    "bar": [
                      {
                        "error_x": {
                          "color": "#2a3f5f"
                        },
                        "error_y": {
                          "color": "#2a3f5f"
                        },
                        "marker": {
                          "line": {
                            "color": "#E5ECF6",
                            "width": 0.5
                          },
                          "pattern": {
                            "fillmode": "overlay",
                            "size": 10,
                            "solidity": 0.2
                          }
                        },
                        "type": "bar"
                      }
                    ],
                    "barpolar": [
                      {
                        "marker": {
                          "line": {
                            "color": "#E5ECF6",
                            "width": 0.5
                          },
                          "pattern": {
                            "fillmode": "overlay",
                            "size": 10,
                            "solidity": 0.2
                          }
                        },
                        "type": "barpolar"
                      }
                    ],
                    "carpet": [
                      {
                        "aaxis": {
                          "endlinecolor": "#2a3f5f",
                          "gridcolor": "white",
                          "linecolor": "white",
                          "minorgridcolor": "white",
                          "startlinecolor": "#2a3f5f"
                        },
                        "baxis": {
                          "endlinecolor": "#2a3f5f",
                          "gridcolor": "white",
                          "linecolor": "white",
                          "minorgridcolor": "white",
                          "startlinecolor": "#2a3f5f"
                        },
                        "type": "carpet"
                      }
                    ],
                    "choropleth": [
                      {
                        "colorbar": {
                          "outlinewidth": 0,
                          "ticks": ""
                        },
                        "type": "choropleth"
                      }
                    ],
                    "contour": [
                      {
                        "colorbar": {
                          "outlinewidth": 0,
                          "ticks": ""
                        },
                        "colorscale": [
                          [
                            0,
                            "#0d0887"
                          ],
                          [
                            0.1111111111111111,
                            "#46039f"
                          ],
                          [
                            0.2222222222222222,
                            "#7201a8"
                          ],
                          [
                            0.3333333333333333,
                            "#9c179e"
                          ],
                          [
                            0.4444444444444444,
                            "#bd3786"
                          ],
                          [
                            0.5555555555555556,
                            "#d8576b"
                          ],
                          [
                            0.6666666666666666,
                            "#ed7953"
                          ],
                          [
                            0.7777777777777778,
                            "#fb9f3a"
                          ],
                          [
                            0.8888888888888888,
                            "#fdca26"
                          ],
                          [
                            1,
                            "#f0f921"
                          ]
                        ],
                        "type": "contour"
                      }
                    ],
                    "contourcarpet": [
                      {
                        "colorbar": {
                          "outlinewidth": 0,
                          "ticks": ""
                        },
                        "type": "contourcarpet"
                      }
                    ],
                    "heatmap": [
                      {
                        "colorbar": {
                          "outlinewidth": 0,
                          "ticks": ""
                        },
                        "colorscale": [
                          [
                            0,
                            "#0d0887"
                          ],
                          [
                            0.1111111111111111,
                            "#46039f"
                          ],
                          [
                            0.2222222222222222,
                            "#7201a8"
                          ],
                          [
                            0.3333333333333333,
                            "#9c179e"
                          ],
                          [
                            0.4444444444444444,
                            "#bd3786"
                          ],
                          [
                            0.5555555555555556,
                            "#d8576b"
                          ],
                          [
                            0.6666666666666666,
                            "#ed7953"
                          ],
                          [
                            0.7777777777777778,
                            "#fb9f3a"
                          ],
                          [
                            0.8888888888888888,
                            "#fdca26"
                          ],
                          [
                            1,
                            "#f0f921"
                          ]
                        ],
                        "type": "heatmap"
                      }
                    ],
                    "heatmapgl": [
                      {
                        "colorbar": {
                          "outlinewidth": 0,
                          "ticks": ""
                        },
                        "colorscale": [
                          [
                            0,
                            "#0d0887"
                          ],
                          [
                            0.1111111111111111,
                            "#46039f"
                          ],
                          [
                            0.2222222222222222,
                            "#7201a8"
                          ],
                          [
                            0.3333333333333333,
                            "#9c179e"
                          ],
                          [
                            0.4444444444444444,
                            "#bd3786"
                          ],
                          [
                            0.5555555555555556,
                            "#d8576b"
                          ],
                          [
                            0.6666666666666666,
                            "#ed7953"
                          ],
                          [
                            0.7777777777777778,
                            "#fb9f3a"
                          ],
                          [
                            0.8888888888888888,
                            "#fdca26"
                          ],
                          [
                            1,
                            "#f0f921"
                          ]
                        ],
                        "type": "heatmapgl"
                      }
                    ],
                    "histogram": [
                      {
                        "marker": {
                          "pattern": {
                            "fillmode": "overlay",
                            "size": 10,
                            "solidity": 0.2
                          }
                        },
                        "type": "histogram"
                      }
                    ],
                    "histogram2d": [
                      {
                        "colorbar": {
                          "outlinewidth": 0,
                          "ticks": ""
                        },
                        "colorscale": [
                          [
                            0,
                            "#0d0887"
                          ],
                          [
                            0.1111111111111111,
                            "#46039f"
                          ],
                          [
                            0.2222222222222222,
                            "#7201a8"
                          ],
                          [
                            0.3333333333333333,
                            "#9c179e"
                          ],
                          [
                            0.4444444444444444,
                            "#bd3786"
                          ],
                          [
                            0.5555555555555556,
                            "#d8576b"
                          ],
                          [
                            0.6666666666666666,
                            "#ed7953"
                          ],
                          [
                            0.7777777777777778,
                            "#fb9f3a"
                          ],
                          [
                            0.8888888888888888,
                            "#fdca26"
                          ],
                          [
                            1,
                            "#f0f921"
                          ]
                        ],
                        "type": "histogram2d"
                      }
                    ],
                    "histogram2dcontour": [
                      {
                        "colorbar": {
                          "outlinewidth": 0,
                          "ticks": ""
                        },
                        "colorscale": [
                          [
                            0,
                            "#0d0887"
                          ],
                          [
                            0.1111111111111111,
                            "#46039f"
                          ],
                          [
                            0.2222222222222222,
                            "#7201a8"
                          ],
                          [
                            0.3333333333333333,
                            "#9c179e"
                          ],
                          [
                            0.4444444444444444,
                            "#bd3786"
                          ],
                          [
                            0.5555555555555556,
                            "#d8576b"
                          ],
                          [
                            0.6666666666666666,
                            "#ed7953"
                          ],
                          [
                            0.7777777777777778,
                            "#fb9f3a"
                          ],
                          [
                            0.8888888888888888,
                            "#fdca26"
                          ],
                          [
                            1,
                            "#f0f921"
                          ]
                        ],
                        "type": "histogram2dcontour"
                      }
                    ],
                    "mesh3d": [
                      {
                        "colorbar": {
                          "outlinewidth": 0,
                          "ticks": ""
                        },
                        "type": "mesh3d"
                      }
                    ],
                    "parcoords": [
                      {
                        "line": {
                          "colorbar": {
                            "outlinewidth": 0,
                            "ticks": ""
                          }
                        },
                        "type": "parcoords"
                      }
                    ],
                    "pie": [
                      {
                        "automargin": true,
                        "type": "pie"
                      }
                    ],
                    "scatter": [
                      {
                        "marker": {
                          "colorbar": {
                            "outlinewidth": 0,
                            "ticks": ""
                          }
                        },
                        "type": "scatter"
                      }
                    ],
                    "scatter3d": [
                      {
                        "line": {
                          "colorbar": {
                            "outlinewidth": 0,
                            "ticks": ""
                          }
                        },
                        "marker": {
                          "colorbar": {
                            "outlinewidth": 0,
                            "ticks": ""
                          }
                        },
                        "type": "scatter3d"
                      }
                    ],
                    "scattercarpet": [
                      {
                        "marker": {
                          "colorbar": {
                            "outlinewidth": 0,
                            "ticks": ""
                          }
                        },
                        "type": "scattercarpet"
                      }
                    ],
                    "scattergeo": [
                      {
                        "marker": {
                          "colorbar": {
                            "outlinewidth": 0,
                            "ticks": ""
                          }
                        },
                        "type": "scattergeo"
                      }
                    ],
                    "scattergl": [
                      {
                        "marker": {
                          "colorbar": {
                            "outlinewidth": 0,
                            "ticks": ""
                          }
                        },
                        "type": "scattergl"
                      }
                    ],
                    "scattermapbox": [
                      {
                        "marker": {
                          "colorbar": {
                            "outlinewidth": 0,
                            "ticks": ""
                          }
                        },
                        "type": "scattermapbox"
                      }
                    ],
                    "scatterpolar": [
                      {
                        "marker": {
                          "colorbar": {
                            "outlinewidth": 0,
                            "ticks": ""
                          }
                        },
                        "type": "scatterpolar"
                      }
                    ],
                    "scatterpolargl": [
                      {
                        "marker": {
                          "colorbar": {
                            "outlinewidth": 0,
                            "ticks": ""
                          }
                        },
                        "type": "scatterpolargl"
                      }
                    ],
                    "scatterternary": [
                      {
                        "marker": {
                          "colorbar": {
                            "outlinewidth": 0,
                            "ticks": ""
                          }
                        },
                        "type": "scatterternary"
                      }
                    ],
                    "surface": [
                      {
                        "colorbar": {
                          "outlinewidth": 0,
                          "ticks": ""
                        },
                        "colorscale": [
                          [
                            0,
                            "#0d0887"
                          ],
                          [
                            0.1111111111111111,
                            "#46039f"
                          ],
                          [
                            0.2222222222222222,
                            "#7201a8"
                          ],
                          [
                            0.3333333333333333,
                            "#9c179e"
                          ],
                          [
                            0.4444444444444444,
                            "#bd3786"
                          ],
                          [
                            0.5555555555555556,
                            "#d8576b"
                          ],
                          [
                            0.6666666666666666,
                            "#ed7953"
                          ],
                          [
                            0.7777777777777778,
                            "#fb9f3a"
                          ],
                          [
                            0.8888888888888888,
                            "#fdca26"
                          ],
                          [
                            1,
                            "#f0f921"
                          ]
                        ],
                        "type": "surface"
                      }
                    ],
                    "table": [
                      {
                        "cells": {
                          "fill": {
                            "color": "#EBF0F8"
                          },
                          "line": {
                            "color": "white"
                          }
                        },
                        "header": {
                          "fill": {
                            "color": "#C8D4E3"
                          },
                          "line": {
                            "color": "white"
                          }
                        },
                        "type": "table"
                      }
                    ]
                  },
                  "layout": {
                    "annotationdefaults": {
                      "arrowcolor": "#2a3f5f",
                      "arrowhead": 0,
                      "arrowwidth": 1
                    },
                    "autotypenumbers": "strict",
                    "coloraxis": {
                      "colorbar": {
                        "outlinewidth": 0,
                        "ticks": ""
                      }
                    },
                    "colorscale": {
                      "diverging": [
                        [
                          0,
                          "#8e0152"
                        ],
                        [
                          0.1,
                          "#c51b7d"
                        ],
                        [
                          0.2,
                          "#de77ae"
                        ],
                        [
                          0.3,
                          "#f1b6da"
                        ],
                        [
                          0.4,
                          "#fde0ef"
                        ],
                        [
                          0.5,
                          "#f7f7f7"
                        ],
                        [
                          0.6,
                          "#e6f5d0"
                        ],
                        [
                          0.7,
                          "#b8e186"
                        ],
                        [
                          0.8,
                          "#7fbc41"
                        ],
                        [
                          0.9,
                          "#4d9221"
                        ],
                        [
                          1,
                          "#276419"
                        ]
                      ],
                      "sequential": [
                        [
                          0,
                          "#0d0887"
                        ],
                        [
                          0.1111111111111111,
                          "#46039f"
                        ],
                        [
                          0.2222222222222222,
                          "#7201a8"
                        ],
                        [
                          0.3333333333333333,
                          "#9c179e"
                        ],
                        [
                          0.4444444444444444,
                          "#bd3786"
                        ],
                        [
                          0.5555555555555556,
                          "#d8576b"
                        ],
                        [
                          0.6666666666666666,
                          "#ed7953"
                        ],
                        [
                          0.7777777777777778,
                          "#fb9f3a"
                        ],
                        [
                          0.8888888888888888,
                          "#fdca26"
                        ],
                        [
                          1,
                          "#f0f921"
                        ]
                      ],
                      "sequentialminus": [
                        [
                          0,
                          "#0d0887"
                        ],
                        [
                          0.1111111111111111,
                          "#46039f"
                        ],
                        [
                          0.2222222222222222,
                          "#7201a8"
                        ],
                        [
                          0.3333333333333333,
                          "#9c179e"
                        ],
                        [
                          0.4444444444444444,
                          "#bd3786"
                        ],
                        [
                          0.5555555555555556,
                          "#d8576b"
                        ],
                        [
                          0.6666666666666666,
                          "#ed7953"
                        ],
                        [
                          0.7777777777777778,
                          "#fb9f3a"
                        ],
                        [
                          0.8888888888888888,
                          "#fdca26"
                        ],
                        [
                          1,
                          "#f0f921"
                        ]
                      ]
                    },
                    "colorway": [
                      "#636efa",
                      "#EF553B",
                      "#00cc96",
                      "#ab63fa",
                      "#FFA15A",
                      "#19d3f3",
                      "#FF6692",
                      "#B6E880",
                      "#FF97FF",
                      "#FECB52"
                    ],
                    "font": {
                      "color": "#2a3f5f"
                    },
                    "geo": {
                      "bgcolor": "white",
                      "lakecolor": "white",
                      "landcolor": "#E5ECF6",
                      "showlakes": true,
                      "showland": true,
                      "subunitcolor": "white"
                    },
                    "hoverlabel": {
                      "align": "left"
                    },
                    "hovermode": "closest",
                    "mapbox": {
                      "style": "light"
                    },
                    "paper_bgcolor": "white",
                    "plot_bgcolor": "#E5ECF6",
                    "polar": {
                      "angularaxis": {
                        "gridcolor": "white",
                        "linecolor": "white",
                        "ticks": ""
                      },
                      "bgcolor": "#E5ECF6",
                      "radialaxis": {
                        "gridcolor": "white",
                        "linecolor": "white",
                        "ticks": ""
                      }
                    },
                    "scene": {
                      "xaxis": {
                        "backgroundcolor": "#E5ECF6",
                        "gridcolor": "white",
                        "gridwidth": 2,
                        "linecolor": "white",
                        "showbackground": true,
                        "ticks": "",
                        "zerolinecolor": "white"
                      },
                      "yaxis": {
                        "backgroundcolor": "#E5ECF6",
                        "gridcolor": "white",
                        "gridwidth": 2,
                        "linecolor": "white",
                        "showbackground": true,
                        "ticks": "",
                        "zerolinecolor": "white"
                      },
                      "zaxis": {
                        "backgroundcolor": "#E5ECF6",
                        "gridcolor": "white",
                        "gridwidth": 2,
                        "linecolor": "white",
                        "showbackground": true,
                        "ticks": "",
                        "zerolinecolor": "white"
                      }
                    },
                    "shapedefaults": {
                      "line": {
                        "color": "#2a3f5f"
                      }
                    },
                    "ternary": {
                      "aaxis": {
                        "gridcolor": "white",
                        "linecolor": "white",
                        "ticks": ""
                      },
                      "baxis": {
                        "gridcolor": "white",
                        "linecolor": "white",
                        "ticks": ""
                      },
                      "bgcolor": "#E5ECF6",
                      "caxis": {
                        "gridcolor": "white",
                        "linecolor": "white",
                        "ticks": ""
                      }
                    },
                    "title": {
                      "x": 0.05
                    },
                    "xaxis": {
                      "automargin": true,
                      "gridcolor": "white",
                      "linecolor": "white",
                      "ticks": "",
                      "title": {
                        "standoff": 15
                      },
                      "zerolinecolor": "white",
                      "zerolinewidth": 2
                    },
                    "yaxis": {
                      "automargin": true,
                      "gridcolor": "white",
                      "linecolor": "white",
                      "ticks": "",
                      "title": {
                        "standoff": 15
                      },
                      "zerolinecolor": "white",
                      "zerolinewidth": 2
                    }
                  }
                },
                "xaxis": {
                  "anchor": "y",
                  "domain": [
                    0,
                    1
                  ],
                  "title": {
                    "text": "maternal_mortality_rate"
                  }
                },
                "yaxis": {
                  "anchor": "x",
                  "domain": [
                    0,
                    1
                  ],
                  "title": {
                    "text": "life_exp_at_birth"
                  }
                }
              }
            }
          },
          "metadata": {},
          "output_type": "display_data"
        }
      ],
      "source": [
        "px.scatter(df, x='maternal_mortality_rate', y='life_exp_at_birth')"
      ]
    },
    {
      "cell_type": "code",
      "execution_count": 5,
      "metadata": {
        "colab": {
          "base_uri": "https://localhost:8080/"
        },
        "id": "YxwjONX6LBot",
        "outputId": "d431d0f3-c11a-49f0-b02a-04af0bb17810"
      },
      "outputs": [
        {
          "data": {
            "text/plain": [
              "Index(['country', 'area', 'birth_rate', 'death_rate', 'infant_mortality_rate',\n",
              "       'internet_users', 'life_exp_at_birth', 'maternal_mortality_rate',\n",
              "       'net_migration_rate', 'population', 'population_growth_rate'],\n",
              "      dtype='object')"
            ]
          },
          "execution_count": 5,
          "metadata": {},
          "output_type": "execute_result"
        }
      ],
      "source": [
        "df.columns"
      ]
    },
    {
      "cell_type": "code",
      "execution_count": 6,
      "metadata": {
        "colab": {
          "base_uri": "https://localhost:8080/"
        },
        "id": "l6RUqUXTLCof",
        "outputId": "6ef98a39-5bc6-43a1-d7dd-f31112ac6a93"
      },
      "outputs": [
        {
          "name": "stdout",
          "output_type": "stream",
          "text": [
            "\n",
            "**Top 5 Countries: birth_rate**\n",
            "21           Niger\n",
            "23            Mali\n",
            "80          Uganda\n",
            "38          Zambia\n",
            "74    Burkina Faso\n",
            "Name: country, dtype: object \n",
            "\n",
            "\n",
            "**Top 5 Countries: death_rate**\n",
            "24      South Africa\n",
            "45           Ukraine\n",
            "140          Lesotho\n",
            "20              Chad\n",
            "136    Guinea-Bissau\n",
            "Name: country, dtype: object \n",
            "\n",
            "\n",
            "**Top 5 Countries: infant_mortality_rate**\n",
            "40                  Afghanistan\n",
            "23                         Mali\n",
            "43                      Somalia\n",
            "44     Central African Republic\n",
            "136               Guinea-Bissau\n",
            "Name: country, dtype: object \n",
            "\n",
            "\n",
            "**Top 5 Countries: internet_users**\n",
            "3             China\n",
            "2     United States\n",
            "61            Japan\n",
            "4            Brazil\n",
            "62          Germany\n",
            "Name: country, dtype: object \n",
            "\n",
            "\n",
            "**Top 5 Countries: life_exp_at_birth**\n",
            "234        Monaco\n",
            "228         Macau\n",
            "61          Japan\n",
            "189     Singapore\n",
            "222    San Marino\n",
            "Name: country, dtype: object \n",
            "\n",
            "\n",
            "**Top 5 Countries: maternal_mortality_rate**\n",
            "41                  South Sudan\n",
            "20                         Chad\n",
            "43                      Somalia\n",
            "44     Central African Republic\n",
            "118                Sierra Leone\n",
            "Name: country, dtype: object \n",
            "\n",
            "\n",
            "**Top 5 Countries: net_migration_rate**\n",
            "168                   Lebanon\n",
            "164                     Qatar\n",
            "60                   Zimbabwe\n",
            "215    British Virgin Islands\n",
            "111                    Jordan\n",
            "Name: country, dtype: object \n",
            "\n",
            "\n",
            "**Top 5 Countries: population**\n",
            "3               China\n",
            "6               India\n",
            "257    European Union\n",
            "2       United States\n",
            "14          Indonesia\n",
            "Name: country, dtype: object \n",
            "\n",
            "\n",
            "**Top 5 Countries: population_growth_rate**\n",
            "168        Lebanon\n",
            "60        Zimbabwe\n",
            "41     South Sudan\n",
            "111         Jordan\n",
            "164          Qatar\n",
            "Name: country, dtype: object \n",
            "\n"
          ]
        }
      ],
      "source": [
        "for category in df.columns[2:]:\n",
        "  print(f'\\n**Top 5 Countries: {category}**')\n",
        "  print(df.sort_values(category, ascending=False).head()['country'], '\\n')"
      ]
    },
    {
      "cell_type": "code",
      "execution_count": 7,
      "metadata": {},
      "outputs": [],
      "source": [
        "def search(country_name):\n",
        "    return (df[df['country'] == country_name])"
      ]
    },
    {
      "cell_type": "code",
      "execution_count": 8,
      "metadata": {},
      "outputs": [
        {
          "data": {
            "text/html": [
              "<div>\n",
              "<style scoped>\n",
              "    .dataframe tbody tr th:only-of-type {\n",
              "        vertical-align: middle;\n",
              "    }\n",
              "\n",
              "    .dataframe tbody tr th {\n",
              "        vertical-align: top;\n",
              "    }\n",
              "\n",
              "    .dataframe thead th {\n",
              "        text-align: right;\n",
              "    }\n",
              "</style>\n",
              "<table border=\"1\" class=\"dataframe\">\n",
              "  <thead>\n",
              "    <tr style=\"text-align: right;\">\n",
              "      <th></th>\n",
              "      <th>country</th>\n",
              "      <th>area</th>\n",
              "      <th>birth_rate</th>\n",
              "      <th>death_rate</th>\n",
              "      <th>infant_mortality_rate</th>\n",
              "      <th>internet_users</th>\n",
              "      <th>life_exp_at_birth</th>\n",
              "      <th>maternal_mortality_rate</th>\n",
              "      <th>net_migration_rate</th>\n",
              "      <th>population</th>\n",
              "      <th>population_growth_rate</th>\n",
              "    </tr>\n",
              "  </thead>\n",
              "  <tbody>\n",
              "    <tr>\n",
              "      <th>1</th>\n",
              "      <td>Canada</td>\n",
              "      <td>9984670.0</td>\n",
              "      <td>10.29</td>\n",
              "      <td>8.31</td>\n",
              "      <td>4.71</td>\n",
              "      <td>26960000.0</td>\n",
              "      <td>81.67</td>\n",
              "      <td>12.0</td>\n",
              "      <td>5.66</td>\n",
              "      <td>34834841.0</td>\n",
              "      <td>0.76</td>\n",
              "    </tr>\n",
              "  </tbody>\n",
              "</table>\n",
              "</div>"
            ],
            "text/plain": [
              "  country       area  birth_rate  death_rate  infant_mortality_rate  \\\n",
              "1  Canada  9984670.0       10.29        8.31                   4.71   \n",
              "\n",
              "   internet_users  life_exp_at_birth  maternal_mortality_rate  \\\n",
              "1      26960000.0              81.67                     12.0   \n",
              "\n",
              "   net_migration_rate  population  population_growth_rate  \n",
              "1                5.66  34834841.0                    0.76  "
            ]
          },
          "execution_count": 8,
          "metadata": {},
          "output_type": "execute_result"
        }
      ],
      "source": [
        "search('Canada')"
      ]
    },
    {
      "cell_type": "code",
      "execution_count": 9,
      "metadata": {},
      "outputs": [
        {
          "data": {
            "text/html": [
              "<div>\n",
              "<style scoped>\n",
              "    .dataframe tbody tr th:only-of-type {\n",
              "        vertical-align: middle;\n",
              "    }\n",
              "\n",
              "    .dataframe tbody tr th {\n",
              "        vertical-align: top;\n",
              "    }\n",
              "\n",
              "    .dataframe thead th {\n",
              "        text-align: right;\n",
              "    }\n",
              "</style>\n",
              "<table border=\"1\" class=\"dataframe\">\n",
              "  <thead>\n",
              "    <tr style=\"text-align: right;\">\n",
              "      <th></th>\n",
              "      <th>country</th>\n",
              "      <th>area</th>\n",
              "      <th>birth_rate</th>\n",
              "      <th>death_rate</th>\n",
              "      <th>infant_mortality_rate</th>\n",
              "      <th>internet_users</th>\n",
              "      <th>life_exp_at_birth</th>\n",
              "      <th>maternal_mortality_rate</th>\n",
              "      <th>net_migration_rate</th>\n",
              "      <th>population</th>\n",
              "      <th>population_growth_rate</th>\n",
              "    </tr>\n",
              "  </thead>\n",
              "  <tbody>\n",
              "    <tr>\n",
              "      <th>2</th>\n",
              "      <td>United States</td>\n",
              "      <td>9826675.0</td>\n",
              "      <td>13.42</td>\n",
              "      <td>8.15</td>\n",
              "      <td>6.17</td>\n",
              "      <td>245000000.0</td>\n",
              "      <td>79.56</td>\n",
              "      <td>21.0</td>\n",
              "      <td>2.45</td>\n",
              "      <td>318892103.0</td>\n",
              "      <td>0.77</td>\n",
              "    </tr>\n",
              "  </tbody>\n",
              "</table>\n",
              "</div>"
            ],
            "text/plain": [
              "         country       area  birth_rate  death_rate  infant_mortality_rate  \\\n",
              "2  United States  9826675.0       13.42        8.15                   6.17   \n",
              "\n",
              "   internet_users  life_exp_at_birth  maternal_mortality_rate  \\\n",
              "2     245000000.0              79.56                     21.0   \n",
              "\n",
              "   net_migration_rate   population  population_growth_rate  \n",
              "2                2.45  318892103.0                    0.77  "
            ]
          },
          "execution_count": 9,
          "metadata": {},
          "output_type": "execute_result"
        }
      ],
      "source": [
        "search('United States')"
      ]
    },
    {
      "cell_type": "code",
      "execution_count": 10,
      "metadata": {},
      "outputs": [
        {
          "data": {
            "text/html": [
              "<div>\n",
              "<style scoped>\n",
              "    .dataframe tbody tr th:only-of-type {\n",
              "        vertical-align: middle;\n",
              "    }\n",
              "\n",
              "    .dataframe tbody tr th {\n",
              "        vertical-align: top;\n",
              "    }\n",
              "\n",
              "    .dataframe thead th {\n",
              "        text-align: right;\n",
              "    }\n",
              "</style>\n",
              "<table border=\"1\" class=\"dataframe\">\n",
              "  <thead>\n",
              "    <tr style=\"text-align: right;\">\n",
              "      <th></th>\n",
              "      <th>country</th>\n",
              "      <th>area</th>\n",
              "      <th>birth_rate</th>\n",
              "      <th>death_rate</th>\n",
              "      <th>infant_mortality_rate</th>\n",
              "      <th>internet_users</th>\n",
              "      <th>life_exp_at_birth</th>\n",
              "      <th>maternal_mortality_rate</th>\n",
              "      <th>net_migration_rate</th>\n",
              "      <th>population</th>\n",
              "      <th>population_growth_rate</th>\n",
              "    </tr>\n",
              "  </thead>\n",
              "  <tbody>\n",
              "    <tr>\n",
              "      <th>5</th>\n",
              "      <td>Australia</td>\n",
              "      <td>7741220.0</td>\n",
              "      <td>12.19</td>\n",
              "      <td>7.07</td>\n",
              "      <td>4.43</td>\n",
              "      <td>15810000.0</td>\n",
              "      <td>82.07</td>\n",
              "      <td>7.0</td>\n",
              "      <td>5.74</td>\n",
              "      <td>22507617.0</td>\n",
              "      <td>1.09</td>\n",
              "    </tr>\n",
              "  </tbody>\n",
              "</table>\n",
              "</div>"
            ],
            "text/plain": [
              "     country       area  birth_rate  death_rate  infant_mortality_rate  \\\n",
              "5  Australia  7741220.0       12.19        7.07                   4.43   \n",
              "\n",
              "   internet_users  life_exp_at_birth  maternal_mortality_rate  \\\n",
              "5      15810000.0              82.07                      7.0   \n",
              "\n",
              "   net_migration_rate  population  population_growth_rate  \n",
              "5                5.74  22507617.0                    1.09  "
            ]
          },
          "execution_count": 10,
          "metadata": {},
          "output_type": "execute_result"
        }
      ],
      "source": [
        "search('Australia')"
      ]
    },
    {
      "cell_type": "code",
      "execution_count": 11,
      "metadata": {},
      "outputs": [
        {
          "data": {
            "text/html": [
              "<div>\n",
              "<style scoped>\n",
              "    .dataframe tbody tr th:only-of-type {\n",
              "        vertical-align: middle;\n",
              "    }\n",
              "\n",
              "    .dataframe tbody tr th {\n",
              "        vertical-align: top;\n",
              "    }\n",
              "\n",
              "    .dataframe thead th {\n",
              "        text-align: right;\n",
              "    }\n",
              "</style>\n",
              "<table border=\"1\" class=\"dataframe\">\n",
              "  <thead>\n",
              "    <tr style=\"text-align: right;\">\n",
              "      <th></th>\n",
              "      <th>country</th>\n",
              "      <th>area</th>\n",
              "      <th>birth_rate</th>\n",
              "      <th>death_rate</th>\n",
              "      <th>infant_mortality_rate</th>\n",
              "      <th>internet_users</th>\n",
              "      <th>life_exp_at_birth</th>\n",
              "      <th>maternal_mortality_rate</th>\n",
              "      <th>net_migration_rate</th>\n",
              "      <th>population</th>\n",
              "      <th>population_growth_rate</th>\n",
              "    </tr>\n",
              "  </thead>\n",
              "  <tbody>\n",
              "    <tr>\n",
              "      <th>42</th>\n",
              "      <td>France</td>\n",
              "      <td>643801.0</td>\n",
              "      <td>12.49</td>\n",
              "      <td>9.06</td>\n",
              "      <td>3.31</td>\n",
              "      <td>45262000.0</td>\n",
              "      <td>81.66</td>\n",
              "      <td>8.0</td>\n",
              "      <td>1.09</td>\n",
              "      <td>66259012.0</td>\n",
              "      <td>0.45</td>\n",
              "    </tr>\n",
              "  </tbody>\n",
              "</table>\n",
              "</div>"
            ],
            "text/plain": [
              "   country      area  birth_rate  death_rate  infant_mortality_rate  \\\n",
              "42  France  643801.0       12.49        9.06                   3.31   \n",
              "\n",
              "    internet_users  life_exp_at_birth  maternal_mortality_rate  \\\n",
              "42      45262000.0              81.66                      8.0   \n",
              "\n",
              "    net_migration_rate  population  population_growth_rate  \n",
              "42                1.09  66259012.0                    0.45  "
            ]
          },
          "execution_count": 11,
          "metadata": {},
          "output_type": "execute_result"
        }
      ],
      "source": [
        "search('France')"
      ]
    },
    {
      "cell_type": "code",
      "execution_count": 12,
      "metadata": {},
      "outputs": [
        {
          "data": {
            "text/plain": [
              "0                Russia\n",
              "1                Canada\n",
              "2         United States\n",
              "3                 China\n",
              "4                Brazil\n",
              "             ...       \n",
              "254       Bouvet Island\n",
              "255       Palmyra Atoll\n",
              "256            Akrotiri\n",
              "257      European Union\n",
              "258    Saint Barthelemy\n",
              "Name: country, Length: 259, dtype: object"
            ]
          },
          "execution_count": 12,
          "metadata": {},
          "output_type": "execute_result"
        }
      ],
      "source": [
        "df['country']"
      ]
    },
    {
      "cell_type": "code",
      "execution_count": 26,
      "metadata": {},
      "outputs": [
        {
          "data": {
            "application/vnd.plotly.v1+json": {
              "config": {
                "plotlyServerURL": "https://plot.ly"
              },
              "data": [
                {
                  "alignmentgroup": "True",
                  "bingroup": "x",
                  "histfunc": "sum",
                  "hovertemplate": "variable=death_rate<br>country=%{x}<br>sum of value=%{y}<extra></extra>",
                  "legendgroup": "death_rate",
                  "marker": {
                    "color": "#636efa",
                    "pattern": {
                      "shape": ""
                    }
                  },
                  "name": "death_rate",
                  "offsetgroup": "death_rate",
                  "orientation": "v",
                  "showlegend": true,
                  "type": "histogram",
                  "x": [
                    "Canada",
                    "United States"
                  ],
                  "xaxis": "x",
                  "y": [
                    8.31,
                    8.15
                  ],
                  "yaxis": "y"
                },
                {
                  "alignmentgroup": "True",
                  "bingroup": "x",
                  "histfunc": "sum",
                  "hovertemplate": "variable=birth_rate<br>country=%{x}<br>sum of value=%{y}<extra></extra>",
                  "legendgroup": "birth_rate",
                  "marker": {
                    "color": "#EF553B",
                    "pattern": {
                      "shape": ""
                    }
                  },
                  "name": "birth_rate",
                  "offsetgroup": "birth_rate",
                  "orientation": "v",
                  "showlegend": true,
                  "type": "histogram",
                  "x": [
                    "Canada",
                    "United States"
                  ],
                  "xaxis": "x",
                  "y": [
                    10.29,
                    13.42
                  ],
                  "yaxis": "y"
                },
                {
                  "alignmentgroup": "True",
                  "bingroup": "x",
                  "histfunc": "sum",
                  "hovertemplate": "variable=population<br>country=%{x}<br>sum of value=%{y}<extra></extra>",
                  "legendgroup": "population",
                  "marker": {
                    "color": "#00cc96",
                    "pattern": {
                      "shape": ""
                    }
                  },
                  "name": "population",
                  "offsetgroup": "population",
                  "orientation": "v",
                  "showlegend": true,
                  "type": "histogram",
                  "x": [
                    "Canada",
                    "United States"
                  ],
                  "xaxis": "x",
                  "y": [
                    34834841,
                    318892103
                  ],
                  "yaxis": "y"
                }
              ],
              "layout": {
                "barmode": "relative",
                "legend": {
                  "title": {
                    "text": "variable"
                  },
                  "tracegroupgap": 0
                },
                "margin": {
                  "t": 60
                },
                "template": {
                  "data": {
                    "bar": [
                      {
                        "error_x": {
                          "color": "#2a3f5f"
                        },
                        "error_y": {
                          "color": "#2a3f5f"
                        },
                        "marker": {
                          "line": {
                            "color": "#E5ECF6",
                            "width": 0.5
                          },
                          "pattern": {
                            "fillmode": "overlay",
                            "size": 10,
                            "solidity": 0.2
                          }
                        },
                        "type": "bar"
                      }
                    ],
                    "barpolar": [
                      {
                        "marker": {
                          "line": {
                            "color": "#E5ECF6",
                            "width": 0.5
                          },
                          "pattern": {
                            "fillmode": "overlay",
                            "size": 10,
                            "solidity": 0.2
                          }
                        },
                        "type": "barpolar"
                      }
                    ],
                    "carpet": [
                      {
                        "aaxis": {
                          "endlinecolor": "#2a3f5f",
                          "gridcolor": "white",
                          "linecolor": "white",
                          "minorgridcolor": "white",
                          "startlinecolor": "#2a3f5f"
                        },
                        "baxis": {
                          "endlinecolor": "#2a3f5f",
                          "gridcolor": "white",
                          "linecolor": "white",
                          "minorgridcolor": "white",
                          "startlinecolor": "#2a3f5f"
                        },
                        "type": "carpet"
                      }
                    ],
                    "choropleth": [
                      {
                        "colorbar": {
                          "outlinewidth": 0,
                          "ticks": ""
                        },
                        "type": "choropleth"
                      }
                    ],
                    "contour": [
                      {
                        "colorbar": {
                          "outlinewidth": 0,
                          "ticks": ""
                        },
                        "colorscale": [
                          [
                            0,
                            "#0d0887"
                          ],
                          [
                            0.1111111111111111,
                            "#46039f"
                          ],
                          [
                            0.2222222222222222,
                            "#7201a8"
                          ],
                          [
                            0.3333333333333333,
                            "#9c179e"
                          ],
                          [
                            0.4444444444444444,
                            "#bd3786"
                          ],
                          [
                            0.5555555555555556,
                            "#d8576b"
                          ],
                          [
                            0.6666666666666666,
                            "#ed7953"
                          ],
                          [
                            0.7777777777777778,
                            "#fb9f3a"
                          ],
                          [
                            0.8888888888888888,
                            "#fdca26"
                          ],
                          [
                            1,
                            "#f0f921"
                          ]
                        ],
                        "type": "contour"
                      }
                    ],
                    "contourcarpet": [
                      {
                        "colorbar": {
                          "outlinewidth": 0,
                          "ticks": ""
                        },
                        "type": "contourcarpet"
                      }
                    ],
                    "heatmap": [
                      {
                        "colorbar": {
                          "outlinewidth": 0,
                          "ticks": ""
                        },
                        "colorscale": [
                          [
                            0,
                            "#0d0887"
                          ],
                          [
                            0.1111111111111111,
                            "#46039f"
                          ],
                          [
                            0.2222222222222222,
                            "#7201a8"
                          ],
                          [
                            0.3333333333333333,
                            "#9c179e"
                          ],
                          [
                            0.4444444444444444,
                            "#bd3786"
                          ],
                          [
                            0.5555555555555556,
                            "#d8576b"
                          ],
                          [
                            0.6666666666666666,
                            "#ed7953"
                          ],
                          [
                            0.7777777777777778,
                            "#fb9f3a"
                          ],
                          [
                            0.8888888888888888,
                            "#fdca26"
                          ],
                          [
                            1,
                            "#f0f921"
                          ]
                        ],
                        "type": "heatmap"
                      }
                    ],
                    "heatmapgl": [
                      {
                        "colorbar": {
                          "outlinewidth": 0,
                          "ticks": ""
                        },
                        "colorscale": [
                          [
                            0,
                            "#0d0887"
                          ],
                          [
                            0.1111111111111111,
                            "#46039f"
                          ],
                          [
                            0.2222222222222222,
                            "#7201a8"
                          ],
                          [
                            0.3333333333333333,
                            "#9c179e"
                          ],
                          [
                            0.4444444444444444,
                            "#bd3786"
                          ],
                          [
                            0.5555555555555556,
                            "#d8576b"
                          ],
                          [
                            0.6666666666666666,
                            "#ed7953"
                          ],
                          [
                            0.7777777777777778,
                            "#fb9f3a"
                          ],
                          [
                            0.8888888888888888,
                            "#fdca26"
                          ],
                          [
                            1,
                            "#f0f921"
                          ]
                        ],
                        "type": "heatmapgl"
                      }
                    ],
                    "histogram": [
                      {
                        "marker": {
                          "pattern": {
                            "fillmode": "overlay",
                            "size": 10,
                            "solidity": 0.2
                          }
                        },
                        "type": "histogram"
                      }
                    ],
                    "histogram2d": [
                      {
                        "colorbar": {
                          "outlinewidth": 0,
                          "ticks": ""
                        },
                        "colorscale": [
                          [
                            0,
                            "#0d0887"
                          ],
                          [
                            0.1111111111111111,
                            "#46039f"
                          ],
                          [
                            0.2222222222222222,
                            "#7201a8"
                          ],
                          [
                            0.3333333333333333,
                            "#9c179e"
                          ],
                          [
                            0.4444444444444444,
                            "#bd3786"
                          ],
                          [
                            0.5555555555555556,
                            "#d8576b"
                          ],
                          [
                            0.6666666666666666,
                            "#ed7953"
                          ],
                          [
                            0.7777777777777778,
                            "#fb9f3a"
                          ],
                          [
                            0.8888888888888888,
                            "#fdca26"
                          ],
                          [
                            1,
                            "#f0f921"
                          ]
                        ],
                        "type": "histogram2d"
                      }
                    ],
                    "histogram2dcontour": [
                      {
                        "colorbar": {
                          "outlinewidth": 0,
                          "ticks": ""
                        },
                        "colorscale": [
                          [
                            0,
                            "#0d0887"
                          ],
                          [
                            0.1111111111111111,
                            "#46039f"
                          ],
                          [
                            0.2222222222222222,
                            "#7201a8"
                          ],
                          [
                            0.3333333333333333,
                            "#9c179e"
                          ],
                          [
                            0.4444444444444444,
                            "#bd3786"
                          ],
                          [
                            0.5555555555555556,
                            "#d8576b"
                          ],
                          [
                            0.6666666666666666,
                            "#ed7953"
                          ],
                          [
                            0.7777777777777778,
                            "#fb9f3a"
                          ],
                          [
                            0.8888888888888888,
                            "#fdca26"
                          ],
                          [
                            1,
                            "#f0f921"
                          ]
                        ],
                        "type": "histogram2dcontour"
                      }
                    ],
                    "mesh3d": [
                      {
                        "colorbar": {
                          "outlinewidth": 0,
                          "ticks": ""
                        },
                        "type": "mesh3d"
                      }
                    ],
                    "parcoords": [
                      {
                        "line": {
                          "colorbar": {
                            "outlinewidth": 0,
                            "ticks": ""
                          }
                        },
                        "type": "parcoords"
                      }
                    ],
                    "pie": [
                      {
                        "automargin": true,
                        "type": "pie"
                      }
                    ],
                    "scatter": [
                      {
                        "marker": {
                          "colorbar": {
                            "outlinewidth": 0,
                            "ticks": ""
                          }
                        },
                        "type": "scatter"
                      }
                    ],
                    "scatter3d": [
                      {
                        "line": {
                          "colorbar": {
                            "outlinewidth": 0,
                            "ticks": ""
                          }
                        },
                        "marker": {
                          "colorbar": {
                            "outlinewidth": 0,
                            "ticks": ""
                          }
                        },
                        "type": "scatter3d"
                      }
                    ],
                    "scattercarpet": [
                      {
                        "marker": {
                          "colorbar": {
                            "outlinewidth": 0,
                            "ticks": ""
                          }
                        },
                        "type": "scattercarpet"
                      }
                    ],
                    "scattergeo": [
                      {
                        "marker": {
                          "colorbar": {
                            "outlinewidth": 0,
                            "ticks": ""
                          }
                        },
                        "type": "scattergeo"
                      }
                    ],
                    "scattergl": [
                      {
                        "marker": {
                          "colorbar": {
                            "outlinewidth": 0,
                            "ticks": ""
                          }
                        },
                        "type": "scattergl"
                      }
                    ],
                    "scattermapbox": [
                      {
                        "marker": {
                          "colorbar": {
                            "outlinewidth": 0,
                            "ticks": ""
                          }
                        },
                        "type": "scattermapbox"
                      }
                    ],
                    "scatterpolar": [
                      {
                        "marker": {
                          "colorbar": {
                            "outlinewidth": 0,
                            "ticks": ""
                          }
                        },
                        "type": "scatterpolar"
                      }
                    ],
                    "scatterpolargl": [
                      {
                        "marker": {
                          "colorbar": {
                            "outlinewidth": 0,
                            "ticks": ""
                          }
                        },
                        "type": "scatterpolargl"
                      }
                    ],
                    "scatterternary": [
                      {
                        "marker": {
                          "colorbar": {
                            "outlinewidth": 0,
                            "ticks": ""
                          }
                        },
                        "type": "scatterternary"
                      }
                    ],
                    "surface": [
                      {
                        "colorbar": {
                          "outlinewidth": 0,
                          "ticks": ""
                        },
                        "colorscale": [
                          [
                            0,
                            "#0d0887"
                          ],
                          [
                            0.1111111111111111,
                            "#46039f"
                          ],
                          [
                            0.2222222222222222,
                            "#7201a8"
                          ],
                          [
                            0.3333333333333333,
                            "#9c179e"
                          ],
                          [
                            0.4444444444444444,
                            "#bd3786"
                          ],
                          [
                            0.5555555555555556,
                            "#d8576b"
                          ],
                          [
                            0.6666666666666666,
                            "#ed7953"
                          ],
                          [
                            0.7777777777777778,
                            "#fb9f3a"
                          ],
                          [
                            0.8888888888888888,
                            "#fdca26"
                          ],
                          [
                            1,
                            "#f0f921"
                          ]
                        ],
                        "type": "surface"
                      }
                    ],
                    "table": [
                      {
                        "cells": {
                          "fill": {
                            "color": "#EBF0F8"
                          },
                          "line": {
                            "color": "white"
                          }
                        },
                        "header": {
                          "fill": {
                            "color": "#C8D4E3"
                          },
                          "line": {
                            "color": "white"
                          }
                        },
                        "type": "table"
                      }
                    ]
                  },
                  "layout": {
                    "annotationdefaults": {
                      "arrowcolor": "#2a3f5f",
                      "arrowhead": 0,
                      "arrowwidth": 1
                    },
                    "autotypenumbers": "strict",
                    "coloraxis": {
                      "colorbar": {
                        "outlinewidth": 0,
                        "ticks": ""
                      }
                    },
                    "colorscale": {
                      "diverging": [
                        [
                          0,
                          "#8e0152"
                        ],
                        [
                          0.1,
                          "#c51b7d"
                        ],
                        [
                          0.2,
                          "#de77ae"
                        ],
                        [
                          0.3,
                          "#f1b6da"
                        ],
                        [
                          0.4,
                          "#fde0ef"
                        ],
                        [
                          0.5,
                          "#f7f7f7"
                        ],
                        [
                          0.6,
                          "#e6f5d0"
                        ],
                        [
                          0.7,
                          "#b8e186"
                        ],
                        [
                          0.8,
                          "#7fbc41"
                        ],
                        [
                          0.9,
                          "#4d9221"
                        ],
                        [
                          1,
                          "#276419"
                        ]
                      ],
                      "sequential": [
                        [
                          0,
                          "#0d0887"
                        ],
                        [
                          0.1111111111111111,
                          "#46039f"
                        ],
                        [
                          0.2222222222222222,
                          "#7201a8"
                        ],
                        [
                          0.3333333333333333,
                          "#9c179e"
                        ],
                        [
                          0.4444444444444444,
                          "#bd3786"
                        ],
                        [
                          0.5555555555555556,
                          "#d8576b"
                        ],
                        [
                          0.6666666666666666,
                          "#ed7953"
                        ],
                        [
                          0.7777777777777778,
                          "#fb9f3a"
                        ],
                        [
                          0.8888888888888888,
                          "#fdca26"
                        ],
                        [
                          1,
                          "#f0f921"
                        ]
                      ],
                      "sequentialminus": [
                        [
                          0,
                          "#0d0887"
                        ],
                        [
                          0.1111111111111111,
                          "#46039f"
                        ],
                        [
                          0.2222222222222222,
                          "#7201a8"
                        ],
                        [
                          0.3333333333333333,
                          "#9c179e"
                        ],
                        [
                          0.4444444444444444,
                          "#bd3786"
                        ],
                        [
                          0.5555555555555556,
                          "#d8576b"
                        ],
                        [
                          0.6666666666666666,
                          "#ed7953"
                        ],
                        [
                          0.7777777777777778,
                          "#fb9f3a"
                        ],
                        [
                          0.8888888888888888,
                          "#fdca26"
                        ],
                        [
                          1,
                          "#f0f921"
                        ]
                      ]
                    },
                    "colorway": [
                      "#636efa",
                      "#EF553B",
                      "#00cc96",
                      "#ab63fa",
                      "#FFA15A",
                      "#19d3f3",
                      "#FF6692",
                      "#B6E880",
                      "#FF97FF",
                      "#FECB52"
                    ],
                    "font": {
                      "color": "#2a3f5f"
                    },
                    "geo": {
                      "bgcolor": "white",
                      "lakecolor": "white",
                      "landcolor": "#E5ECF6",
                      "showlakes": true,
                      "showland": true,
                      "subunitcolor": "white"
                    },
                    "hoverlabel": {
                      "align": "left"
                    },
                    "hovermode": "closest",
                    "mapbox": {
                      "style": "light"
                    },
                    "paper_bgcolor": "white",
                    "plot_bgcolor": "#E5ECF6",
                    "polar": {
                      "angularaxis": {
                        "gridcolor": "white",
                        "linecolor": "white",
                        "ticks": ""
                      },
                      "bgcolor": "#E5ECF6",
                      "radialaxis": {
                        "gridcolor": "white",
                        "linecolor": "white",
                        "ticks": ""
                      }
                    },
                    "scene": {
                      "xaxis": {
                        "backgroundcolor": "#E5ECF6",
                        "gridcolor": "white",
                        "gridwidth": 2,
                        "linecolor": "white",
                        "showbackground": true,
                        "ticks": "",
                        "zerolinecolor": "white"
                      },
                      "yaxis": {
                        "backgroundcolor": "#E5ECF6",
                        "gridcolor": "white",
                        "gridwidth": 2,
                        "linecolor": "white",
                        "showbackground": true,
                        "ticks": "",
                        "zerolinecolor": "white"
                      },
                      "zaxis": {
                        "backgroundcolor": "#E5ECF6",
                        "gridcolor": "white",
                        "gridwidth": 2,
                        "linecolor": "white",
                        "showbackground": true,
                        "ticks": "",
                        "zerolinecolor": "white"
                      }
                    },
                    "shapedefaults": {
                      "line": {
                        "color": "#2a3f5f"
                      }
                    },
                    "ternary": {
                      "aaxis": {
                        "gridcolor": "white",
                        "linecolor": "white",
                        "ticks": ""
                      },
                      "baxis": {
                        "gridcolor": "white",
                        "linecolor": "white",
                        "ticks": ""
                      },
                      "bgcolor": "#E5ECF6",
                      "caxis": {
                        "gridcolor": "white",
                        "linecolor": "white",
                        "ticks": ""
                      }
                    },
                    "title": {
                      "x": 0.05
                    },
                    "xaxis": {
                      "automargin": true,
                      "gridcolor": "white",
                      "linecolor": "white",
                      "ticks": "",
                      "title": {
                        "standoff": 15
                      },
                      "zerolinecolor": "white",
                      "zerolinewidth": 2
                    },
                    "yaxis": {
                      "automargin": true,
                      "gridcolor": "white",
                      "linecolor": "white",
                      "ticks": "",
                      "title": {
                        "standoff": 15
                      },
                      "zerolinecolor": "white",
                      "zerolinewidth": 2
                    }
                  }
                },
                "xaxis": {
                  "anchor": "y",
                  "domain": [
                    0,
                    1
                  ],
                  "title": {
                    "text": "country"
                  }
                },
                "yaxis": {
                  "anchor": "x",
                  "domain": [
                    0,
                    1
                  ],
                  "title": {
                    "text": "sum of value"
                  }
                }
              }
            }
          },
          "metadata": {},
          "output_type": "display_data"
        }
      ],
      "source": [
        "px.histogram(pd.concat([search('Canada'), search('United States')]), 'country', ['death_rate', 'birth_rate', 'population'])"
      ]
    },
    {
      "cell_type": "code",
      "execution_count": 20,
      "metadata": {},
      "outputs": [
        {
          "data": {
            "text/html": [
              "<div>\n",
              "<style scoped>\n",
              "    .dataframe tbody tr th:only-of-type {\n",
              "        vertical-align: middle;\n",
              "    }\n",
              "\n",
              "    .dataframe tbody tr th {\n",
              "        vertical-align: top;\n",
              "    }\n",
              "\n",
              "    .dataframe thead th {\n",
              "        text-align: right;\n",
              "    }\n",
              "</style>\n",
              "<table border=\"1\" class=\"dataframe\">\n",
              "  <thead>\n",
              "    <tr style=\"text-align: right;\">\n",
              "      <th></th>\n",
              "      <th>country</th>\n",
              "      <th>area</th>\n",
              "      <th>birth_rate</th>\n",
              "      <th>death_rate</th>\n",
              "      <th>infant_mortality_rate</th>\n",
              "      <th>internet_users</th>\n",
              "      <th>life_exp_at_birth</th>\n",
              "      <th>maternal_mortality_rate</th>\n",
              "      <th>net_migration_rate</th>\n",
              "      <th>population</th>\n",
              "      <th>population_growth_rate</th>\n",
              "    </tr>\n",
              "  </thead>\n",
              "  <tbody>\n",
              "    <tr>\n",
              "      <th>1</th>\n",
              "      <td>Canada</td>\n",
              "      <td>9984670.0</td>\n",
              "      <td>10.29</td>\n",
              "      <td>8.31</td>\n",
              "      <td>4.71</td>\n",
              "      <td>26960000.0</td>\n",
              "      <td>81.67</td>\n",
              "      <td>12.0</td>\n",
              "      <td>5.66</td>\n",
              "      <td>34834841.0</td>\n",
              "      <td>0.76</td>\n",
              "    </tr>\n",
              "    <tr>\n",
              "      <th>2</th>\n",
              "      <td>United States</td>\n",
              "      <td>9826675.0</td>\n",
              "      <td>13.42</td>\n",
              "      <td>8.15</td>\n",
              "      <td>6.17</td>\n",
              "      <td>245000000.0</td>\n",
              "      <td>79.56</td>\n",
              "      <td>21.0</td>\n",
              "      <td>2.45</td>\n",
              "      <td>318892103.0</td>\n",
              "      <td>0.77</td>\n",
              "    </tr>\n",
              "  </tbody>\n",
              "</table>\n",
              "</div>"
            ],
            "text/plain": [
              "         country       area  birth_rate  death_rate  infant_mortality_rate  \\\n",
              "1         Canada  9984670.0       10.29        8.31                   4.71   \n",
              "2  United States  9826675.0       13.42        8.15                   6.17   \n",
              "\n",
              "   internet_users  life_exp_at_birth  maternal_mortality_rate  \\\n",
              "1      26960000.0              81.67                     12.0   \n",
              "2     245000000.0              79.56                     21.0   \n",
              "\n",
              "   net_migration_rate   population  population_growth_rate  \n",
              "1                5.66   34834841.0                    0.76  \n",
              "2                2.45  318892103.0                    0.77  "
            ]
          },
          "execution_count": 20,
          "metadata": {},
          "output_type": "execute_result"
        }
      ],
      "source": [
        "pd.concat([search('Canada'), search('United States')])"
      ]
    },
    {
      "cell_type": "code",
      "execution_count": null,
      "metadata": {},
      "outputs": [],
      "source": []
    }
  ],
  "metadata": {
    "colab": {
      "name": "factbook-analysis.ipynb",
      "provenance": []
    },
    "interpreter": {
      "hash": "bb04143b76cf4aa8b010820e1498da26f1eeac71d04edabfea3b39816255051b"
    },
    "kernelspec": {
      "display_name": "Python 3.8.12 64-bit ('main_env1': conda)",
      "name": "python3"
    },
    "language_info": {
      "codemirror_mode": {
        "name": "ipython",
        "version": 3
      },
      "file_extension": ".py",
      "mimetype": "text/x-python",
      "name": "python",
      "nbconvert_exporter": "python",
      "pygments_lexer": "ipython3",
      "version": "3.8.12"
    }
  },
  "nbformat": 4,
  "nbformat_minor": 2
}
