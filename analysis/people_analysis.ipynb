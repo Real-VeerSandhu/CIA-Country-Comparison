{
  "nbformat": 4,
  "nbformat_minor": 2,
  "metadata": {
    "colab": {
      "name": "factbook-analysis.ipynb",
      "provenance": []
    },
    "kernelspec": {
      "name": "python3",
      "display_name": "Python 3.6.12 64-bit ('env0': conda)"
    },
    "language_info": {
      "name": "python",
      "version": "3.6.12",
      "mimetype": "text/x-python",
      "codemirror_mode": {
        "name": "ipython",
        "version": 3
      },
      "pygments_lexer": "ipython3",
      "nbconvert_exporter": "python",
      "file_extension": ".py"
    },
    "interpreter": {
      "hash": "fefd83eafc0c2f3c8796de3f6632c2698dc12eafcdd46e5a8c965eb3d21b0b49"
    }
  },
  "cells": [
    {
      "cell_type": "code",
      "execution_count": 1,
      "source": [
        "import pandas as pd\r\n",
        "import plotly.express as px\r\n",
        "import numpy as np"
      ],
      "outputs": [],
      "metadata": {
        "id": "1euc0CgdKm1X"
      }
    },
    {
      "cell_type": "code",
      "execution_count": 2,
      "source": [
        "df = pd.read_csv('../data/cia_factbook.csv')"
      ],
      "outputs": [],
      "metadata": {
        "id": "sF8PieEnK8Bn"
      }
    },
    {
      "cell_type": "code",
      "execution_count": 3,
      "source": [
        "df.head()"
      ],
      "outputs": [
        {
          "output_type": "execute_result",
          "data": {
            "text/html": [
              "<div>\n",
              "<style scoped>\n",
              "    .dataframe tbody tr th:only-of-type {\n",
              "        vertical-align: middle;\n",
              "    }\n",
              "\n",
              "    .dataframe tbody tr th {\n",
              "        vertical-align: top;\n",
              "    }\n",
              "\n",
              "    .dataframe thead th {\n",
              "        text-align: right;\n",
              "    }\n",
              "</style>\n",
              "<table border=\"1\" class=\"dataframe\">\n",
              "  <thead>\n",
              "    <tr style=\"text-align: right;\">\n",
              "      <th></th>\n",
              "      <th>country</th>\n",
              "      <th>area</th>\n",
              "      <th>birth_rate</th>\n",
              "      <th>death_rate</th>\n",
              "      <th>infant_mortality_rate</th>\n",
              "      <th>internet_users</th>\n",
              "      <th>life_exp_at_birth</th>\n",
              "      <th>maternal_mortality_rate</th>\n",
              "      <th>net_migration_rate</th>\n",
              "      <th>population</th>\n",
              "      <th>population_growth_rate</th>\n",
              "    </tr>\n",
              "  </thead>\n",
              "  <tbody>\n",
              "    <tr>\n",
              "      <th>0</th>\n",
              "      <td>Russia</td>\n",
              "      <td>17098242.0</td>\n",
              "      <td>11.87</td>\n",
              "      <td>13.83</td>\n",
              "      <td>7.08</td>\n",
              "      <td>40853000.0</td>\n",
              "      <td>70.16</td>\n",
              "      <td>34.0</td>\n",
              "      <td>1.69</td>\n",
              "      <td>1.424703e+08</td>\n",
              "      <td>-0.03</td>\n",
              "    </tr>\n",
              "    <tr>\n",
              "      <th>1</th>\n",
              "      <td>Canada</td>\n",
              "      <td>9984670.0</td>\n",
              "      <td>10.29</td>\n",
              "      <td>8.31</td>\n",
              "      <td>4.71</td>\n",
              "      <td>26960000.0</td>\n",
              "      <td>81.67</td>\n",
              "      <td>12.0</td>\n",
              "      <td>5.66</td>\n",
              "      <td>3.483484e+07</td>\n",
              "      <td>0.76</td>\n",
              "    </tr>\n",
              "    <tr>\n",
              "      <th>2</th>\n",
              "      <td>United States</td>\n",
              "      <td>9826675.0</td>\n",
              "      <td>13.42</td>\n",
              "      <td>8.15</td>\n",
              "      <td>6.17</td>\n",
              "      <td>245000000.0</td>\n",
              "      <td>79.56</td>\n",
              "      <td>21.0</td>\n",
              "      <td>2.45</td>\n",
              "      <td>3.188921e+08</td>\n",
              "      <td>0.77</td>\n",
              "    </tr>\n",
              "    <tr>\n",
              "      <th>3</th>\n",
              "      <td>China</td>\n",
              "      <td>9596960.0</td>\n",
              "      <td>12.17</td>\n",
              "      <td>7.44</td>\n",
              "      <td>14.79</td>\n",
              "      <td>389000000.0</td>\n",
              "      <td>75.15</td>\n",
              "      <td>37.0</td>\n",
              "      <td>-0.32</td>\n",
              "      <td>1.355693e+09</td>\n",
              "      <td>0.44</td>\n",
              "    </tr>\n",
              "    <tr>\n",
              "      <th>4</th>\n",
              "      <td>Brazil</td>\n",
              "      <td>8514877.0</td>\n",
              "      <td>14.72</td>\n",
              "      <td>6.54</td>\n",
              "      <td>19.21</td>\n",
              "      <td>75982000.0</td>\n",
              "      <td>73.28</td>\n",
              "      <td>56.0</td>\n",
              "      <td>-0.15</td>\n",
              "      <td>2.026568e+08</td>\n",
              "      <td>0.80</td>\n",
              "    </tr>\n",
              "  </tbody>\n",
              "</table>\n",
              "</div>"
            ],
            "text/plain": [
              "         country        area  birth_rate  death_rate  infant_mortality_rate  \\\n",
              "0         Russia  17098242.0       11.87       13.83                   7.08   \n",
              "1         Canada   9984670.0       10.29        8.31                   4.71   \n",
              "2  United States   9826675.0       13.42        8.15                   6.17   \n",
              "3          China   9596960.0       12.17        7.44                  14.79   \n",
              "4         Brazil   8514877.0       14.72        6.54                  19.21   \n",
              "\n",
              "   internet_users  life_exp_at_birth  maternal_mortality_rate  \\\n",
              "0      40853000.0              70.16                     34.0   \n",
              "1      26960000.0              81.67                     12.0   \n",
              "2     245000000.0              79.56                     21.0   \n",
              "3     389000000.0              75.15                     37.0   \n",
              "4      75982000.0              73.28                     56.0   \n",
              "\n",
              "   net_migration_rate    population  population_growth_rate  \n",
              "0                1.69  1.424703e+08                   -0.03  \n",
              "1                5.66  3.483484e+07                    0.76  \n",
              "2                2.45  3.188921e+08                    0.77  \n",
              "3               -0.32  1.355693e+09                    0.44  \n",
              "4               -0.15  2.026568e+08                    0.80  "
            ]
          },
          "metadata": {},
          "execution_count": 3
        }
      ],
      "metadata": {
        "colab": {
          "base_uri": "https://localhost:8080/",
          "height": 243
        },
        "id": "ilaxkQBtLAvs",
        "outputId": "1c5a67f4-4cb7-47ad-a03d-6639211f441f"
      }
    },
    {
      "cell_type": "code",
      "execution_count": 4,
      "source": [
        "df.columns"
      ],
      "outputs": [
        {
          "output_type": "execute_result",
          "data": {
            "text/plain": [
              "Index(['country', 'area', 'birth_rate', 'death_rate', 'infant_mortality_rate',\n",
              "       'internet_users', 'life_exp_at_birth', 'maternal_mortality_rate',\n",
              "       'net_migration_rate', 'population', 'population_growth_rate'],\n",
              "      dtype='object')"
            ]
          },
          "metadata": {},
          "execution_count": 4
        }
      ],
      "metadata": {
        "colab": {
          "base_uri": "https://localhost:8080/"
        },
        "id": "YxwjONX6LBot",
        "outputId": "d431d0f3-c11a-49f0-b02a-04af0bb17810"
      }
    },
    {
      "cell_type": "code",
      "execution_count": 5,
      "source": [
        "for category in df.columns[2:]:\r\n",
        "  print(f'\\n**Top 5 Countries: {category}**')\r\n",
        "  print(df.sort_values(category, ascending=False).head()['country'], '\\n')"
      ],
      "outputs": [
        {
          "output_type": "stream",
          "name": "stdout",
          "text": [
            "\n",
            "**Top 5 Countries: birth_rate**\n",
            "21           Niger\n",
            "23            Mali\n",
            "80          Uganda\n",
            "38          Zambia\n",
            "74    Burkina Faso\n",
            "Name: country, dtype: object \n",
            "\n",
            "\n",
            "**Top 5 Countries: death_rate**\n",
            "24      South Africa\n",
            "45           Ukraine\n",
            "140          Lesotho\n",
            "20              Chad\n",
            "136    Guinea-Bissau\n",
            "Name: country, dtype: object \n",
            "\n",
            "\n",
            "**Top 5 Countries: infant_mortality_rate**\n",
            "40                  Afghanistan\n",
            "23                         Mali\n",
            "43                      Somalia\n",
            "44     Central African Republic\n",
            "136               Guinea-Bissau\n",
            "Name: country, dtype: object \n",
            "\n",
            "\n",
            "**Top 5 Countries: internet_users**\n",
            "3             China\n",
            "2     United States\n",
            "61            Japan\n",
            "4            Brazil\n",
            "62          Germany\n",
            "Name: country, dtype: object \n",
            "\n",
            "\n",
            "**Top 5 Countries: life_exp_at_birth**\n",
            "234        Monaco\n",
            "228         Macau\n",
            "61          Japan\n",
            "189     Singapore\n",
            "222    San Marino\n",
            "Name: country, dtype: object \n",
            "\n",
            "\n",
            "**Top 5 Countries: maternal_mortality_rate**\n",
            "41                  South Sudan\n",
            "20                         Chad\n",
            "43                      Somalia\n",
            "44     Central African Republic\n",
            "118                Sierra Leone\n",
            "Name: country, dtype: object \n",
            "\n",
            "\n",
            "**Top 5 Countries: net_migration_rate**\n",
            "168                   Lebanon\n",
            "164                     Qatar\n",
            "60                   Zimbabwe\n",
            "215    British Virgin Islands\n",
            "111                    Jordan\n",
            "Name: country, dtype: object \n",
            "\n",
            "\n",
            "**Top 5 Countries: population**\n",
            "3               China\n",
            "6               India\n",
            "257    European Union\n",
            "2       United States\n",
            "14          Indonesia\n",
            "Name: country, dtype: object \n",
            "\n",
            "\n",
            "**Top 5 Countries: population_growth_rate**\n",
            "168        Lebanon\n",
            "60        Zimbabwe\n",
            "41     South Sudan\n",
            "111         Jordan\n",
            "164          Qatar\n",
            "Name: country, dtype: object \n",
            "\n"
          ]
        }
      ],
      "metadata": {
        "colab": {
          "base_uri": "https://localhost:8080/"
        },
        "id": "l6RUqUXTLCof",
        "outputId": "6ef98a39-5bc6-43a1-d7dd-f31112ac6a93"
      }
    },
    {
      "cell_type": "code",
      "execution_count": 6,
      "source": [
        "def search(country_name):\r\n",
        "    return (df[df['country'] == country_name])"
      ],
      "outputs": [],
      "metadata": {}
    },
    {
      "cell_type": "code",
      "execution_count": 7,
      "source": [
        "search('Canada')"
      ],
      "outputs": [
        {
          "output_type": "execute_result",
          "data": {
            "text/html": [
              "<div>\n",
              "<style scoped>\n",
              "    .dataframe tbody tr th:only-of-type {\n",
              "        vertical-align: middle;\n",
              "    }\n",
              "\n",
              "    .dataframe tbody tr th {\n",
              "        vertical-align: top;\n",
              "    }\n",
              "\n",
              "    .dataframe thead th {\n",
              "        text-align: right;\n",
              "    }\n",
              "</style>\n",
              "<table border=\"1\" class=\"dataframe\">\n",
              "  <thead>\n",
              "    <tr style=\"text-align: right;\">\n",
              "      <th></th>\n",
              "      <th>country</th>\n",
              "      <th>area</th>\n",
              "      <th>birth_rate</th>\n",
              "      <th>death_rate</th>\n",
              "      <th>infant_mortality_rate</th>\n",
              "      <th>internet_users</th>\n",
              "      <th>life_exp_at_birth</th>\n",
              "      <th>maternal_mortality_rate</th>\n",
              "      <th>net_migration_rate</th>\n",
              "      <th>population</th>\n",
              "      <th>population_growth_rate</th>\n",
              "    </tr>\n",
              "  </thead>\n",
              "  <tbody>\n",
              "    <tr>\n",
              "      <th>1</th>\n",
              "      <td>Canada</td>\n",
              "      <td>9984670.0</td>\n",
              "      <td>10.29</td>\n",
              "      <td>8.31</td>\n",
              "      <td>4.71</td>\n",
              "      <td>26960000.0</td>\n",
              "      <td>81.67</td>\n",
              "      <td>12.0</td>\n",
              "      <td>5.66</td>\n",
              "      <td>34834841.0</td>\n",
              "      <td>0.76</td>\n",
              "    </tr>\n",
              "  </tbody>\n",
              "</table>\n",
              "</div>"
            ],
            "text/plain": [
              "  country       area  birth_rate  death_rate  infant_mortality_rate  \\\n",
              "1  Canada  9984670.0       10.29        8.31                   4.71   \n",
              "\n",
              "   internet_users  life_exp_at_birth  maternal_mortality_rate  \\\n",
              "1      26960000.0              81.67                     12.0   \n",
              "\n",
              "   net_migration_rate  population  population_growth_rate  \n",
              "1                5.66  34834841.0                    0.76  "
            ]
          },
          "metadata": {},
          "execution_count": 7
        }
      ],
      "metadata": {}
    },
    {
      "cell_type": "code",
      "execution_count": 8,
      "source": [
        "search('United States')"
      ],
      "outputs": [
        {
          "output_type": "execute_result",
          "data": {
            "text/html": [
              "<div>\n",
              "<style scoped>\n",
              "    .dataframe tbody tr th:only-of-type {\n",
              "        vertical-align: middle;\n",
              "    }\n",
              "\n",
              "    .dataframe tbody tr th {\n",
              "        vertical-align: top;\n",
              "    }\n",
              "\n",
              "    .dataframe thead th {\n",
              "        text-align: right;\n",
              "    }\n",
              "</style>\n",
              "<table border=\"1\" class=\"dataframe\">\n",
              "  <thead>\n",
              "    <tr style=\"text-align: right;\">\n",
              "      <th></th>\n",
              "      <th>country</th>\n",
              "      <th>area</th>\n",
              "      <th>birth_rate</th>\n",
              "      <th>death_rate</th>\n",
              "      <th>infant_mortality_rate</th>\n",
              "      <th>internet_users</th>\n",
              "      <th>life_exp_at_birth</th>\n",
              "      <th>maternal_mortality_rate</th>\n",
              "      <th>net_migration_rate</th>\n",
              "      <th>population</th>\n",
              "      <th>population_growth_rate</th>\n",
              "    </tr>\n",
              "  </thead>\n",
              "  <tbody>\n",
              "    <tr>\n",
              "      <th>2</th>\n",
              "      <td>United States</td>\n",
              "      <td>9826675.0</td>\n",
              "      <td>13.42</td>\n",
              "      <td>8.15</td>\n",
              "      <td>6.17</td>\n",
              "      <td>245000000.0</td>\n",
              "      <td>79.56</td>\n",
              "      <td>21.0</td>\n",
              "      <td>2.45</td>\n",
              "      <td>318892103.0</td>\n",
              "      <td>0.77</td>\n",
              "    </tr>\n",
              "  </tbody>\n",
              "</table>\n",
              "</div>"
            ],
            "text/plain": [
              "         country       area  birth_rate  death_rate  infant_mortality_rate  \\\n",
              "2  United States  9826675.0       13.42        8.15                   6.17   \n",
              "\n",
              "   internet_users  life_exp_at_birth  maternal_mortality_rate  \\\n",
              "2     245000000.0              79.56                     21.0   \n",
              "\n",
              "   net_migration_rate   population  population_growth_rate  \n",
              "2                2.45  318892103.0                    0.77  "
            ]
          },
          "metadata": {},
          "execution_count": 8
        }
      ],
      "metadata": {}
    },
    {
      "cell_type": "code",
      "execution_count": 9,
      "source": [
        "search('Australia')"
      ],
      "outputs": [
        {
          "output_type": "execute_result",
          "data": {
            "text/html": [
              "<div>\n",
              "<style scoped>\n",
              "    .dataframe tbody tr th:only-of-type {\n",
              "        vertical-align: middle;\n",
              "    }\n",
              "\n",
              "    .dataframe tbody tr th {\n",
              "        vertical-align: top;\n",
              "    }\n",
              "\n",
              "    .dataframe thead th {\n",
              "        text-align: right;\n",
              "    }\n",
              "</style>\n",
              "<table border=\"1\" class=\"dataframe\">\n",
              "  <thead>\n",
              "    <tr style=\"text-align: right;\">\n",
              "      <th></th>\n",
              "      <th>country</th>\n",
              "      <th>area</th>\n",
              "      <th>birth_rate</th>\n",
              "      <th>death_rate</th>\n",
              "      <th>infant_mortality_rate</th>\n",
              "      <th>internet_users</th>\n",
              "      <th>life_exp_at_birth</th>\n",
              "      <th>maternal_mortality_rate</th>\n",
              "      <th>net_migration_rate</th>\n",
              "      <th>population</th>\n",
              "      <th>population_growth_rate</th>\n",
              "    </tr>\n",
              "  </thead>\n",
              "  <tbody>\n",
              "    <tr>\n",
              "      <th>5</th>\n",
              "      <td>Australia</td>\n",
              "      <td>7741220.0</td>\n",
              "      <td>12.19</td>\n",
              "      <td>7.07</td>\n",
              "      <td>4.43</td>\n",
              "      <td>15810000.0</td>\n",
              "      <td>82.07</td>\n",
              "      <td>7.0</td>\n",
              "      <td>5.74</td>\n",
              "      <td>22507617.0</td>\n",
              "      <td>1.09</td>\n",
              "    </tr>\n",
              "  </tbody>\n",
              "</table>\n",
              "</div>"
            ],
            "text/plain": [
              "     country       area  birth_rate  death_rate  infant_mortality_rate  \\\n",
              "5  Australia  7741220.0       12.19        7.07                   4.43   \n",
              "\n",
              "   internet_users  life_exp_at_birth  maternal_mortality_rate  \\\n",
              "5      15810000.0              82.07                      7.0   \n",
              "\n",
              "   net_migration_rate  population  population_growth_rate  \n",
              "5                5.74  22507617.0                    1.09  "
            ]
          },
          "metadata": {},
          "execution_count": 9
        }
      ],
      "metadata": {}
    },
    {
      "cell_type": "code",
      "execution_count": 10,
      "source": [
        "search('France')"
      ],
      "outputs": [
        {
          "output_type": "execute_result",
          "data": {
            "text/html": [
              "<div>\n",
              "<style scoped>\n",
              "    .dataframe tbody tr th:only-of-type {\n",
              "        vertical-align: middle;\n",
              "    }\n",
              "\n",
              "    .dataframe tbody tr th {\n",
              "        vertical-align: top;\n",
              "    }\n",
              "\n",
              "    .dataframe thead th {\n",
              "        text-align: right;\n",
              "    }\n",
              "</style>\n",
              "<table border=\"1\" class=\"dataframe\">\n",
              "  <thead>\n",
              "    <tr style=\"text-align: right;\">\n",
              "      <th></th>\n",
              "      <th>country</th>\n",
              "      <th>area</th>\n",
              "      <th>birth_rate</th>\n",
              "      <th>death_rate</th>\n",
              "      <th>infant_mortality_rate</th>\n",
              "      <th>internet_users</th>\n",
              "      <th>life_exp_at_birth</th>\n",
              "      <th>maternal_mortality_rate</th>\n",
              "      <th>net_migration_rate</th>\n",
              "      <th>population</th>\n",
              "      <th>population_growth_rate</th>\n",
              "    </tr>\n",
              "  </thead>\n",
              "  <tbody>\n",
              "    <tr>\n",
              "      <th>42</th>\n",
              "      <td>France</td>\n",
              "      <td>643801.0</td>\n",
              "      <td>12.49</td>\n",
              "      <td>9.06</td>\n",
              "      <td>3.31</td>\n",
              "      <td>45262000.0</td>\n",
              "      <td>81.66</td>\n",
              "      <td>8.0</td>\n",
              "      <td>1.09</td>\n",
              "      <td>66259012.0</td>\n",
              "      <td>0.45</td>\n",
              "    </tr>\n",
              "  </tbody>\n",
              "</table>\n",
              "</div>"
            ],
            "text/plain": [
              "   country      area  birth_rate  death_rate  infant_mortality_rate  \\\n",
              "42  France  643801.0       12.49        9.06                   3.31   \n",
              "\n",
              "    internet_users  life_exp_at_birth  maternal_mortality_rate  \\\n",
              "42      45262000.0              81.66                      8.0   \n",
              "\n",
              "    net_migration_rate  population  population_growth_rate  \n",
              "42                1.09  66259012.0                    0.45  "
            ]
          },
          "metadata": {},
          "execution_count": 10
        }
      ],
      "metadata": {}
    }
  ]
}